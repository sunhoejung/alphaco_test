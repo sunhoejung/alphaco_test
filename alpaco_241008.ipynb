{
  "cells": [
    {
      "cell_type": "markdown",
      "metadata": {
        "id": "VFwQs6Jpi8_A"
      },
      "source": [
        "# Google Colab 한글 폰트 설치"
      ]
    },
    {
      "cell_type": "code",
      "execution_count": 1,
      "metadata": {
        "colab": {
          "base_uri": "https://localhost:8080/"
        },
        "id": "Yvj4_gyhi6VJ",
        "outputId": "059797a0-c383-4bbd-a587-9c748a17ecce"
      },
      "outputs": [
        {
          "name": "stdout",
          "output_type": "stream",
          "text": [
            "Selecting previously unselected package fonts-nanum.\n",
            "(Reading database ... 123620 files and directories currently installed.)\n",
            "Preparing to unpack .../fonts-nanum_20200506-1_all.deb ...\n",
            "Unpacking fonts-nanum (20200506-1) ...\n",
            "Setting up fonts-nanum (20200506-1) ...\n",
            "Processing triggers for fontconfig (2.13.1-4.2ubuntu5) ...\n"
          ]
        }
      ],
      "source": [
        "import sys\n",
        "\n",
        "# Google Colab 환경에서 실행 중인지 확인\n",
        "if 'google.colab' in sys.modules:\n",
        "    # debconf를 Noninteractive 모드로 설정\n",
        "    !echo 'debconf debconf/frontend select Noninteractive' | \\\n",
        "    debconf-set-selections\n",
        "\n",
        "    # fonts-nanum 패키지를 설치\n",
        "    !sudo apt-get -qq -y install fonts-nanum\n",
        "\n",
        "    # Matplotlib의 폰트 매니저 가져오기\n",
        "    import matplotlib.font_manager as fm\n",
        "\n",
        "    # 나눔 폰트의 시스템 경로 찾기\n",
        "    font_files = fm.findSystemFonts(fontpaths=['/usr/share/fonts/truetype/nanum'])\n",
        "\n",
        "    # 찾은 각 나눔 폰트를 Matplotlib 폰트 매니저에 추가\n",
        "    for fpath in font_files:\n",
        "        fm.fontManager.addfont(fpath)"
      ]
    },
    {
      "cell_type": "code",
      "execution_count": 2,
      "metadata": {
        "colab": {
          "base_uri": "https://localhost:8080/"
        },
        "id": "JTopSdDDpro9",
        "outputId": "d5d44f61-2927-467e-a15e-6cccca68e826"
      },
      "outputs": [
        {
          "name": "stdout",
          "output_type": "stream",
          "text": [
            "['NanumBarunGothic'] 11.0\n"
          ]
        }
      ],
      "source": [
        "import matplotlib.pyplot as plt\n",
        "\n",
        "plt.rcParams['font.family'] = 'NanumGothic'    #사용 방법1\n",
        "plt.rc('font', family='NanumBarunGothic', size=11) #사용 방법2\n",
        "print(plt.rcParams['font.family'], plt.rcParams['font.size'])   # 폰트확인"
      ]
    },
    {
      "cell_type": "markdown",
      "metadata": {
        "id": "aNHYHG2Vptrd"
      },
      "source": [
        "- 테스트"
      ]
    },
    {
      "cell_type": "code",
      "execution_count": 3,
      "metadata": {
        "colab": {
          "base_uri": "https://localhost:8080/",
          "height": 455
        },
        "id": "Q25lV0i1ps0e",
        "outputId": "c1c37b50-707c-4ec7-bf09-78a0ed782e59"
      },
      "outputs": [
        {
          "data": {
            "image/png": "[encoded data removed]",
            "text/plain": [
              "<Figure size 640x480 with 1 Axes>"
            ]
          },
          "metadata": {},
          "output_type": "display_data"
        }
      ],
      "source": [
        "plt.plot([1, 2, 3])\n",
        "plt.title(\"한글 잘 나옵니까?\")\n",
        "plt.show()"
      ]
    },
    {
      "cell_type": "markdown",
      "metadata": {
        "id": "mxS6ciZ4pyB9"
      },
      "source": [
        "# Google Colab과 드라이브 연동"
      ]
    },
    {
      "cell_type": "code",
      "execution_count": 4,
      "metadata": {
        "colab": {
          "base_uri": "https://localhost:8080/"
        },
        "id": "LvSC43A0p0Gg",
        "outputId": "a2610aee-4acb-45c1-885a-42fe38667325"
      },
      "outputs": [
        {
          "name": "stdout",
          "output_type": "stream",
          "text": [
            "Mounted at /content/drive\n"
          ]
        }
      ],
      "source": [
        "from google.colab import drive\n",
        "drive.mount(\"/content/drive\")"
      ]
    },
    {
      "cell_type": "markdown",
      "metadata": {
        "id": "oNxQuefLkLVw"
      },
      "source": [
        "# z-검정, t-검정\n",
        "- 평균 차이 검정\n",
        "- z검정\n",
        "  + 모수의 분산, 표준편차 등을 알고 있어야 함"
      ]
    },
    {
      "cell_type": "code",
      "execution_count": 5,
      "metadata": {
        "colab": {
          "base_uri": "https://localhost:8080/",
          "height": 206
        },
        "id": "S1W0-MpMlOxk",
        "outputId": "ec7f4580-b141-48f7-8e3b-20fb1f0a6215"
      },
      "outputs": [
        {
          "data": {
            "application/vnd.google.colaboratory.intrinsic+json": {
              "summary": "{\n  \"name\": \"df\",\n  \"rows\": 20,\n  \"fields\": [\n    {\n      \"column\": \"grades\",\n      \"properties\": {\n        \"dtype\": \"number\",\n        \"std\": 9,\n        \"min\": 50,\n        \"max\": 89,\n        \"num_unique_values\": 14,\n        \"samples\": [\n          77,\n          81,\n          50\n        ],\n        \"semantic_type\": \"\",\n        \"description\": \"\"\n      }\n    }\n  ]\n}",
              "type": "dataframe",
              "variable_name": "df"
            },
            "text/html": [
              "\n",
              "  <div id=\"df-11bac306-750b-4e05-ae48-8cb02f071e45\" class=\"colab-df-container\">\n",
              "    <div>\n",
              "<style scoped>\n",
              "    .dataframe tbody tr th:only-of-type {\n",
              "        vertical-align: middle;\n",
              "    }\n",
              "\n",
              "    .dataframe tbody tr th {\n",
              "        vertical-align: top;\n",
              "    }\n",
              "\n",
              "    .dataframe thead th {\n",
              "        text-align: right;\n",
              "    }\n",
              "</style>\n",
              "<table border=\"1\" class=\"dataframe\">\n",
              "  <thead>\n",
              "    <tr style=\"text-align: right;\">\n",
              "      <th></th>\n",
              "      <th>grades</th>\n",
              "    </tr>\n",
              "  </thead>\n",
              "  <tbody>\n",
              "    <tr>\n",
              "      <th>0</th>\n",
              "      <td>50</td>\n",
              "    </tr>\n",
              "    <tr>\n",
              "      <th>1</th>\n",
              "      <td>60</td>\n",
              "    </tr>\n",
              "    <tr>\n",
              "      <th>2</th>\n",
              "      <td>60</td>\n",
              "    </tr>\n",
              "    <tr>\n",
              "      <th>3</th>\n",
              "      <td>64</td>\n",
              "    </tr>\n",
              "    <tr>\n",
              "      <th>4</th>\n",
              "      <td>66</td>\n",
              "    </tr>\n",
              "  </tbody>\n",
              "</table>\n",
              "</div>\n",
              "    <div class=\"colab-df-buttons\">\n",
              "\n",
              "  <div class=\"colab-df-container\">\n",
              "    <button class=\"colab-df-convert\" onclick=\"convertToInteractive('df-11bac306-750b-4e05-ae48-8cb02f071e45')\"\n",
              "            title=\"Convert this dataframe to an interactive table.\"\n",
              "            style=\"display:none;\">\n",
              "\n",
              "  <svg xmlns=\"http://www.w3.org/2000/svg\" height=\"24px\" viewBox=\"0 -960 960 960\">\n",
              "    <path d=\"M120-120v-720h720v720H120Zm60-500h600v-160H180v160Zm220 220h160v-160H400v160Zm0 220h160v-160H400v160ZM180-400h160v-160H180v160Zm440 0h160v-160H620v160ZM180-180h160v-160H180v160Zm440 0h160v-160H620v160Z\"/>\n",
              "  </svg>\n",
              "    </button>\n",
              "\n",
              "  <style>\n",
              "    .colab-df-container {\n",
              "      display:flex;\n",
              "      gap: 12px;\n",
              "    }\n",
              "\n",
              "    .colab-df-convert {\n",
              "      background-color: #E8F0FE;\n",
              "      border: none;\n",
              "      border-radius: 50%;\n",
              "      cursor: pointer;\n",
              "      display: none;\n",
              "      fill: #1967D2;\n",
              "      height: 32px;\n",
              "      padding: 0 0 0 0;\n",
              "      width: 32px;\n",
              "    }\n",
              "\n",
              "    .colab-df-convert:hover {\n",
              "      background-color: #E2EBFA;\n",
              "      box-shadow: 0px 1px 2px rgba(60, 64, 67, 0.3), 0px 1px 3px 1px rgba(60, 64, 67, 0.15);\n",
              "      fill: #174EA6;\n",
              "    }\n",
              "\n",
              "    .colab-df-buttons div {\n",
              "      margin-bottom: 4px;\n",
              "    }\n",
              "\n",
              "    [theme=dark] .colab-df-convert {\n",
              "      background-color: #3B4455;\n",
              "      fill: #D2E3FC;\n",
              "    }\n",
              "\n",
              "    [theme=dark] .colab-df-convert:hover {\n",
              "      background-color: #434B5C;\n",
              "      box-shadow: 0px 1px 3px 1px rgba(0, 0, 0, 0.15);\n",
              "      filter: drop-shadow(0px 1px 2px rgba(0, 0, 0, 0.3));\n",
              "      fill: #FFFFFF;\n",
              "    }\n",
              "  </style>\n",
              "\n",
              "    <script>\n",
              "      const buttonEl =\n",
              "        document.querySelector('#df-11bac306-750b-4e05-ae48-8cb02f071e45 button.colab-df-convert');\n",
              "      buttonEl.style.display =\n",
              "        google.colab.kernel.accessAllowed ? 'block' : 'none';\n",
              "\n",
              "      async function convertToInteractive(key) {\n",
              "        const element = document.querySelector('#df-11bac306-750b-4e05-ae48-8cb02f071e45');\n",
              "        const dataTable =\n",
              "          await google.colab.kernel.invokeFunction('convertToInteractive',\n",
              "                                                    [key], {});\n",
              "        if (!dataTable) return;\n",
              "\n",
              "        const docLinkHtml = 'Like what you see? Visit the ' +\n",
              "          '<a target=\"_blank\" href=https://colab.research.google.com/notebooks/data_table.ipynb>data table notebook</a>'\n",
              "          + ' to learn more about interactive tables.';\n",
              "        element.innerHTML = '';\n",
              "        dataTable['output_type'] = 'display_data';\n",
              "        await google.colab.output.renderOutput(dataTable, element);\n",
              "        const docLink = document.createElement('div');\n",
              "        docLink.innerHTML = docLinkHtml;\n",
              "        element.appendChild(docLink);\n",
              "      }\n",
              "    </script>\n",
              "  </div>\n",
              "\n",
              "\n",
              "<div id=\"df-d87d58ba-a170-40d3-81ea-459b2484898d\">\n",
              "  <button class=\"colab-df-quickchart\" onclick=\"quickchart('df-d87d58ba-a170-40d3-81ea-459b2484898d')\"\n",
              "            title=\"Suggest charts\"\n",
              "            style=\"display:none;\">\n",
              "\n",
              "<svg xmlns=\"http://www.w3.org/2000/svg\" height=\"24px\"viewBox=\"0 0 24 24\"\n",
              "     width=\"24px\">\n",
              "    <g>\n",
              "        <path d=\"M19 3H5c-1.1 0-2 .9-2 2v14c0 1.1.9 2 2 2h14c1.1 0 2-.9 2-2V5c0-1.1-.9-2-2-2zM9 17H7v-7h2v7zm4 0h-2V7h2v10zm4 0h-2v-4h2v4z\"/>\n",
              "    </g>\n",
              "</svg>\n",
              "  </button>\n",
              "\n",
              "<style>\n",
              "  .colab-df-quickchart {\n",
              "      --bg-color: #E8F0FE;\n",
              "      --fill-color: #1967D2;\n",
              "      --hover-bg-color: #E2EBFA;\n",
              "      --hover-fill-color: #174EA6;\n",
              "      --disabled-fill-color: #AAA;\n",
              "      --disabled-bg-color: #DDD;\n",
              "  }\n",
              "\n",
              "  [theme=dark] .colab-df-quickchart {\n",
              "      --bg-color: #3B4455;\n",
              "      --fill-color: #D2E3FC;\n",
              "      --hover-bg-color: #434B5C;\n",
              "      --hover-fill-color: #FFFFFF;\n",
              "      --disabled-bg-color: #3B4455;\n",
              "      --disabled-fill-color: #666;\n",
              "  }\n",
              "\n",
              "  .colab-df-quickchart {\n",
              "    background-color: var(--bg-color);\n",
              "    border: none;\n",
              "    border-radius: 50%;\n",
              "    cursor: pointer;\n",
              "    display: none;\n",
              "    fill: var(--fill-color);\n",
              "    height: 32px;\n",
              "    padding: 0;\n",
              "    width: 32px;\n",
              "  }\n",
              "\n",
              "  .colab-df-quickchart:hover {\n",
              "    background-color: var(--hover-bg-color);\n",
              "    box-shadow: 0 1px 2px rgba(60, 64, 67, 0.3), 0 1px 3px 1px rgba(60, 64, 67, 0.15);\n",
              "    fill: var(--button-hover-fill-color);\n",
              "  }\n",
              "\n",
              "  .colab-df-quickchart-complete:disabled,\n",
              "  .colab-df-quickchart-complete:disabled:hover {\n",
              "    background-color: var(--disabled-bg-color);\n",
              "    fill: var(--disabled-fill-color);\n",
              "    box-shadow: none;\n",
              "  }\n",
              "\n",
              "  .colab-df-spinner {\n",
              "    border: 2px solid var(--fill-color);\n",
              "    border-color: transparent;\n",
              "    border-bottom-color: var(--fill-color);\n",
              "    animation:\n",
              "      spin 1s steps(1) infinite;\n",
              "  }\n",
              "\n",
              "  @keyframes spin {\n",
              "    0% {\n",
              "      border-color: transparent;\n",
              "      border-bottom-color: var(--fill-color);\n",
              "      border-left-color: var(--fill-color);\n",
              "    }\n",
              "    20% {\n",
              "      border-color: transparent;\n",
              "      border-left-color: var(--fill-color);\n",
              "      border-top-color: var(--fill-color);\n",
              "    }\n",
              "    30% {\n",
              "      border-color: transparent;\n",
              "      border-left-color: var(--fill-color);\n",
              "      border-top-color: var(--fill-color);\n",
              "      border-right-color: var(--fill-color);\n",
              "    }\n",
              "    40% {\n",
              "      border-color: transparent;\n",
              "      border-right-color: var(--fill-color);\n",
              "      border-top-color: var(--fill-color);\n",
              "    }\n",
              "    60% {\n",
              "      border-color: transparent;\n",
              "      border-right-color: var(--fill-color);\n",
              "    }\n",
              "    80% {\n",
              "      border-color: transparent;\n",
              "      border-right-color: var(--fill-color);\n",
              "      border-bottom-color: var(--fill-color);\n",
              "    }\n",
              "    90% {\n",
              "      border-color: transparent;\n",
              "      border-bottom-color: var(--fill-color);\n",
              "    }\n",
              "  }\n",
              "</style>\n",
              "\n",
              "  <script>\n",
              "    async function quickchart(key) {\n",
              "      const quickchartButtonEl =\n",
              "        document.querySelector('#' + key + ' button');\n",
              "      quickchartButtonEl.disabled = true;  // To prevent multiple clicks.\n",
              "      quickchartButtonEl.classList.add('colab-df-spinner');\n",
              "      try {\n",
              "        const charts = await google.colab.kernel.invokeFunction(\n",
              "            'suggestCharts', [key], {});\n",
              "      } catch (error) {\n",
              "        console.error('Error during call to suggestCharts:', error);\n",
              "      }\n",
              "      quickchartButtonEl.classList.remove('colab-df-spinner');\n",
              "      quickchartButtonEl.classList.add('colab-df-quickchart-complete');\n",
              "    }\n",
              "    (() => {\n",
              "      let quickchartButtonEl =\n",
              "        document.querySelector('#df-d87d58ba-a170-40d3-81ea-459b2484898d button');\n",
              "      quickchartButtonEl.style.display =\n",
              "        google.colab.kernel.accessAllowed ? 'block' : 'none';\n",
              "    })();\n",
              "  </script>\n",
              "</div>\n",
              "\n",
              "    </div>\n",
              "  </div>\n"
            ],
            "text/plain": [
              "   grades\n",
              "0      50\n",
              "1      60\n",
              "2      60\n",
              "3      64\n",
              "4      66"
            ]
          },
          "execution_count": 5,
          "metadata": {},
          "output_type": "execute_result"
        }
      ],
      "source": [
        "import pandas as pd\n",
        "df = pd.DataFrame({\"grades\" : [50, 60, 60, 64, 66, 66, 67, 69, 70, 74, 76, 76, 77, 79, 79, 79, 81, 82, 82, 89]})\n",
        "df.head()"
      ]
    },
    {
      "cell_type": "markdown",
      "metadata": {
        "id": "_U1k7I-0lWJt"
      },
      "source": [
        "- 모수의 표준편차는 9.5로 알고 있음"
      ]
    },
    {
      "cell_type": "code",
      "execution_count": 6,
      "metadata": {
        "colab": {
          "base_uri": "https://localhost:8080/",
          "height": 453
        },
        "id": "JFfKynC7lZEH",
        "outputId": "799e588b-392e-4b89-b6a2-ff25a0cb16ba"
      },
      "outputs": [
        {
          "data": {
            "image/png": "[encoded data removed]",
            "text/plain": [
              "<Figure size 640x480 with 1 Axes>"
            ]
          },
          "metadata": {},
          "output_type": "display_data"
        }
      ],
      "source": [
        "import matplotlib.pyplot as plt\n",
        "import numpy as np\n",
        "import seaborn as sns\n",
        "import scipy.stats as stats\n",
        "\n",
        "mu = 67.5       # 모수의 평균\n",
        "sigma = 9.5     # 모수의 편차\n",
        "x = np.linspace(mu - 3*sigma, mu + 3*sigma, 100)\n",
        "y = 100* stats.norm.pdf(x, mu, sigma)\n",
        "\n",
        "fig, ax = plt.subplots()\n",
        "ax1 = sns.histplot(df['grades'])\n",
        "\n",
        "ax2 = sns.lineplot(x=x,y=y, color='black')\n",
        "\n",
        "plt.ylim(bottom=-1)\n",
        "\n",
        "ax1.set_frame_on(False)\n",
        "ax1.axes.get_yaxis().set_visible(False)\n",
        "\n",
        "plt.show()"
      ]
    },
    {
      "cell_type": "markdown",
      "metadata": {
        "id": "-Ux_dXTjmY0T"
      },
      "source": [
        "## 가설수립\n",
        "- 귀무가설 : 모집단의 수학점수 평균과 1반의 수학점수 평균차이는 없다!\n",
        "- 대립가설 : 모집단의 수학점수 평균과 1반의 수학점수 평균차이는 있다."
      ]
    },
    {
      "cell_type": "markdown",
      "metadata": {
        "id": "1dzvuPmGnZfq"
      },
      "source": [
        "## z-score 구하기"
      ]
    },
    {
      "cell_type": "code",
      "execution_count": 7,
      "metadata": {
        "colab": {
          "base_uri": "https://localhost:8080/"
        },
        "id": "IXbePcOynWsV",
        "outputId": "80a61c9a-83d3-4742-cd69-66a189712449"
      },
      "outputs": [
        {
          "data": {
            "text/plain": [
              "2.259605535157681"
            ]
          },
          "execution_count": 7,
          "metadata": {},
          "output_type": "execute_result"
        }
      ],
      "source": [
        "import math\n",
        "sample_mean = df['grades'].mean()\n",
        "sd_true = 9.5\n",
        "mu_null = 67.5\n",
        "N = len(df['grades'])\n",
        "sem_true = sd_true / math.sqrt(N)\n",
        "z_score = (sample_mean - mu_null) / sem_true\n",
        "z_score # 통계량"
      ]
    },
    {
      "cell_type": "markdown",
      "metadata": {
        "id": "JzxOB4OFoDyk"
      },
      "source": [
        "## p-value"
      ]
    },
    {
      "cell_type": "code",
      "execution_count": 8,
      "metadata": {
        "colab": {
          "base_uri": "https://localhost:8080/"
        },
        "id": "xwNFo9IdoFf4",
        "outputId": "e904cd7e-65e0-4daf-e6ed-843498d54154"
      },
      "outputs": [
        {
          "data": {
            "text/plain": [
              "0.023845743764939864"
            ]
          },
          "execution_count": 8,
          "metadata": {},
          "output_type": "execute_result"
        }
      ],
      "source": [
        "from statistics import NormalDist\n",
        "\n",
        "lower_area = NormalDist().cdf(-z_score)\n",
        "upper_area = lower_area\n",
        "p_value = lower_area + upper_area\n",
        "p_value"
      ]
    },
    {
      "cell_type": "markdown",
      "metadata": {
        "id": "w1Xu-pc4wek4"
      },
      "source": [
        "# t-검정의 종류\n",
        "- One-Sample t-test (일표본 단일검정)\n",
        "- Paired t-test (대응표본)\n",
        "- Independent t-test (두 평균의 비교, 독립검정)"
      ]
    },
    {
      "cell_type": "markdown",
      "metadata": {
        "id": "8qrMOpnvw5Yu"
      },
      "source": [
        "## One-Sample t-test\n",
        "- 일표본 단일검정\n",
        "- z-검정과의 차이점\n",
        "  + 모집단의 표준편차를 모름\n",
        "  + 모집단의 평균을 알고 있음\n",
        "  + 자유도 : N-1 (z-검정은 N)\n",
        "- 모집단의 평균 : 사회적인 통념, 알려진 사실\n",
        "- 가설설정\n",
        "  + 귀무가설 : 모집단의 평균과 표본의 평균은 같다.\n",
        "    - 오리온 초코칩의 무게중량 45g이 맞을 것이야\n",
        "  + 대립가설 : 모집단의 평균과 표본의 평균은 다르다.\n",
        "    - 오리온 초코칩의 무게중량 45g이 아니다!\n"
      ]
    },
    {
      "cell_type": "code",
      "execution_count": 9,
      "metadata": {
        "colab": {
          "base_uri": "https://localhost:8080/"
        },
        "id": "UsjTfCkL1OGi",
        "outputId": "9719be6c-444e-4be3-a541-16b242d868a9"
      },
      "outputs": [
        {
          "name": "stdout",
          "output_type": "stream",
          "text": [
            "Sample mean: 72.3\n",
            "Degrees of freedom: 19\n"
          ]
        }
      ],
      "source": [
        "N = len(df['grades'])\n",
        "degfree = N-1\n",
        "sample_mean = df['grades'].mean()\n",
        "print('Sample mean:', sample_mean)\n",
        "print('Degrees of freedom:', degfree)"
      ]
    },
    {
      "cell_type": "code",
      "execution_count": 10,
      "metadata": {
        "colab": {
          "base_uri": "https://localhost:8080/"
        },
        "id": "3th6LLwQ1f5g",
        "outputId": "cbe26e98-ff87-46b2-d638-17f98d8834a8"
      },
      "outputs": [
        {
          "data": {
            "text/plain": [
              "(0.6106514014810425, 0.5486662606700853)"
            ]
          },
          "execution_count": 10,
          "metadata": {},
          "output_type": "execute_result"
        }
      ],
      "source": [
        "from scipy.stats import ttest_1samp\n",
        "\n",
        "t, p = ttest_1samp(a = df['grades'], popmean = 71)\n",
        "t, p"
      ]
    },
    {
      "cell_type": "markdown",
      "metadata": {
        "id": "8DLFkkHY3Fx6"
      },
      "source": [
        "- 신뢰구간 추정"
      ]
    },
    {
      "cell_type": "code",
      "execution_count": 11,
      "metadata": {
        "colab": {
          "base_uri": "https://localhost:8080/"
        },
        "id": "gZ0dZFiX3O3f",
        "outputId": "59ce7150-0e00-4a76-b4ab-da1bd2634e07"
      },
      "outputs": [
        {
          "data": {
            "text/plain": [
              "(67.84421513791415, 76.75578486208585)"
            ]
          },
          "execution_count": 11,
          "metadata": {},
          "output_type": "execute_result"
        }
      ],
      "source": [
        "from scipy import stats\n",
        "\n",
        "confidence_level = 0.95\n",
        "degrees_freedom = len(df['grades'])-1\n",
        "sample_mean = df['grades'].mean()\n",
        "sample_standard_error = df['grades'].sem()\n",
        "\n",
        "confidence_interval = stats.t.interval(confidence_level, degrees_freedom, sample_mean, sample_standard_error)\n",
        "confidence_interval"
      ]
    },
    {
      "cell_type": "code",
      "execution_count": 12,
      "metadata": {
        "colab": {
          "base_uri": "https://localhost:8080/"
        },
        "id": "No_jlmuz38WC",
        "outputId": "54e2dc8f-98eb-470b-d51f-549fc005761f"
      },
      "outputs": [
        {
          "data": {
            "text/plain": [
              "ConfidenceInterval(low=67.84421513791415, high=76.75578486208585)"
            ]
          },
          "execution_count": 12,
          "metadata": {},
          "output_type": "execute_result"
        }
      ],
      "source": [
        "ttest_1samp(a = df['grades'], popmean = 71).confidence_interval()"
      ]
    },
    {
      "cell_type": "markdown",
      "metadata": {
        "id": "tsGoM2K4vbpt"
      },
      "source": [
        "## t-검정 (independent t-test)\n",
        "- 가정 만족 확인 : 정규성과 등분산성 검정\n",
        "- 정규성의 가설 검정\n",
        "  + 귀무가설 : 데이터가 정규분포를 만족한다.\n",
        "  + 대립가설 : 데이터가 정규분포를 이루고 있지 않다.\n",
        "- 등분산성 가설 검정\n",
        "  + 귀무가설 : 두 그룹의 분산이 같다.\n",
        "  + 대립가설 : 두 그룹의 분산이 다르다.\n",
        "- t-검정 가설검정"
      ]
    },
    {
      "cell_type": "code",
      "execution_count": 13,
      "metadata": {
        "colab": {
          "base_uri": "https://localhost:8080/",
          "height": 206
        },
        "id": "7dTDMO_80icx",
        "outputId": "c5d0734c-bcd2-4764-e212-130c5e7b2646"
      },
      "outputs": [
        {
          "data": {
            "application/vnd.google.colaboratory.intrinsic+json": {
              "summary": "{\n  \"name\": \"tips\",\n  \"rows\": 244,\n  \"fields\": [\n    {\n      \"column\": \"total_bill\",\n      \"properties\": {\n        \"dtype\": \"number\",\n        \"std\": 8.902411954856856,\n        \"min\": 3.07,\n        \"max\": 50.81,\n        \"num_unique_values\": 229,\n        \"samples\": [\n          22.12,\n          20.23,\n          14.78\n        ],\n        \"semantic_type\": \"\",\n        \"description\": \"\"\n      }\n    },\n    {\n      \"column\": \"tip\",\n      \"properties\": {\n        \"dtype\": \"number\",\n        \"std\": 1.3836381890011826,\n        \"min\": 1.0,\n        \"max\": 10.0,\n        \"num_unique_values\": 123,\n        \"samples\": [\n          3.35,\n          1.5,\n          6.73\n        ],\n        \"semantic_type\": \"\",\n        \"description\": \"\"\n      }\n    },\n    {\n      \"column\": \"sex\",\n      \"properties\": {\n        \"dtype\": \"category\",\n        \"num_unique_values\": 2,\n        \"samples\": [\n          \"Male\",\n          \"Female\"\n        ],\n        \"semantic_type\": \"\",\n        \"description\": \"\"\n      }\n    },\n    {\n      \"column\": \"smoker\",\n      \"properties\": {\n        \"dtype\": \"category\",\n        \"num_unique_values\": 2,\n        \"samples\": [\n          \"Yes\",\n          \"No\"\n        ],\n        \"semantic_type\": \"\",\n        \"description\": \"\"\n      }\n    },\n    {\n      \"column\": \"day\",\n      \"properties\": {\n        \"dtype\": \"category\",\n        \"num_unique_values\": 4,\n        \"samples\": [\n          \"Sat\",\n          \"Fri\"\n        ],\n        \"semantic_type\": \"\",\n        \"description\": \"\"\n      }\n    },\n    {\n      \"column\": \"time\",\n      \"properties\": {\n        \"dtype\": \"category\",\n        \"num_unique_values\": 2,\n        \"samples\": [\n          \"Lunch\",\n          \"Dinner\"\n        ],\n        \"semantic_type\": \"\",\n        \"description\": \"\"\n      }\n    },\n    {\n      \"column\": \"size\",\n      \"properties\": {\n        \"dtype\": \"number\",\n        \"std\": 0,\n        \"min\": 1,\n        \"max\": 6,\n        \"num_unique_values\": 6,\n        \"samples\": [\n          2,\n          3\n        ],\n        \"semantic_type\": \"\",\n        \"description\": \"\"\n      }\n    }\n  ]\n}",
              "type": "dataframe",
              "variable_name": "tips"
            },
            "text/html": [
              "\n",
              "  <div id=\"df-8e462e2a-f7ee-4b3d-8878-fd39232f7851\" class=\"colab-df-container\">\n",
              "    <div>\n",
              "<style scoped>\n",
              "    .dataframe tbody tr th:only-of-type {\n",
              "        vertical-align: middle;\n",
              "    }\n",
              "\n",
              "    .dataframe tbody tr th {\n",
              "        vertical-align: top;\n",
              "    }\n",
              "\n",
              "    .dataframe thead th {\n",
              "        text-align: right;\n",
              "    }\n",
              "</style>\n",
              "<table border=\"1\" class=\"dataframe\">\n",
              "  <thead>\n",
              "    <tr style=\"text-align: right;\">\n",
              "      <th></th>\n",
              "      <th>total_bill</th>\n",
              "      <th>tip</th>\n",
              "      <th>sex</th>\n",
              "      <th>smoker</th>\n",
              "      <th>day</th>\n",
              "      <th>time</th>\n",
              "      <th>size</th>\n",
              "    </tr>\n",
              "  </thead>\n",
              "  <tbody>\n",
              "    <tr>\n",
              "      <th>0</th>\n",
              "      <td>16.99</td>\n",
              "      <td>1.01</td>\n",
              "      <td>Female</td>\n",
              "      <td>No</td>\n",
              "      <td>Sun</td>\n",
              "      <td>Dinner</td>\n",
              "      <td>2</td>\n",
              "    </tr>\n",
              "    <tr>\n",
              "      <th>1</th>\n",
              "      <td>10.34</td>\n",
              "      <td>1.66</td>\n",
              "      <td>Male</td>\n",
              "      <td>No</td>\n",
              "      <td>Sun</td>\n",
              "      <td>Dinner</td>\n",
              "      <td>3</td>\n",
              "    </tr>\n",
              "    <tr>\n",
              "      <th>2</th>\n",
              "      <td>21.01</td>\n",
              "      <td>3.50</td>\n",
              "      <td>Male</td>\n",
              "      <td>No</td>\n",
              "      <td>Sun</td>\n",
              "      <td>Dinner</td>\n",
              "      <td>3</td>\n",
              "    </tr>\n",
              "    <tr>\n",
              "      <th>3</th>\n",
              "      <td>23.68</td>\n",
              "      <td>3.31</td>\n",
              "      <td>Male</td>\n",
              "      <td>No</td>\n",
              "      <td>Sun</td>\n",
              "      <td>Dinner</td>\n",
              "      <td>2</td>\n",
              "    </tr>\n",
              "    <tr>\n",
              "      <th>4</th>\n",
              "      <td>24.59</td>\n",
              "      <td>3.61</td>\n",
              "      <td>Female</td>\n",
              "      <td>No</td>\n",
              "      <td>Sun</td>\n",
              "      <td>Dinner</td>\n",
              "      <td>4</td>\n",
              "    </tr>\n",
              "  </tbody>\n",
              "</table>\n",
              "</div>\n",
              "    <div class=\"colab-df-buttons\">\n",
              "\n",
              "  <div class=\"colab-df-container\">\n",
              "    <button class=\"colab-df-convert\" onclick=\"convertToInteractive('df-8e462e2a-f7ee-4b3d-8878-fd39232f7851')\"\n",
              "            title=\"Convert this dataframe to an interactive table.\"\n",
              "            style=\"display:none;\">\n",
              "\n",
              "  <svg xmlns=\"http://www.w3.org/2000/svg\" height=\"24px\" viewBox=\"0 -960 960 960\">\n",
              "    <path d=\"M120-120v-720h720v720H120Zm60-500h600v-160H180v160Zm220 220h160v-160H400v160Zm0 220h160v-160H400v160ZM180-400h160v-160H180v160Zm440 0h160v-160H620v160ZM180-180h160v-160H180v160Zm440 0h160v-160H620v160Z\"/>\n",
              "  </svg>\n",
              "    </button>\n",
              "\n",
              "  <style>\n",
              "    .colab-df-container {\n",
              "      display:flex;\n",
              "      gap: 12px;\n",
              "    }\n",
              "\n",
              "    .colab-df-convert {\n",
              "      background-color: #E8F0FE;\n",
              "      border: none;\n",
              "      border-radius: 50%;\n",
              "      cursor: pointer;\n",
              "      display: none;\n",
              "      fill: #1967D2;\n",
              "      height: 32px;\n",
              "      padding: 0 0 0 0;\n",
              "      width: 32px;\n",
              "    }\n",
              "\n",
              "    .colab-df-convert:hover {\n",
              "      background-color: #E2EBFA;\n",
              "      box-shadow: 0px 1px 2px rgba(60, 64, 67, 0.3), 0px 1px 3px 1px rgba(60, 64, 67, 0.15);\n",
              "      fill: #174EA6;\n",
              "    }\n",
              "\n",
              "    .colab-df-buttons div {\n",
              "      margin-bottom: 4px;\n",
              "    }\n",
              "\n",
              "    [theme=dark] .colab-df-convert {\n",
              "      background-color: #3B4455;\n",
              "      fill: #D2E3FC;\n",
              "    }\n",
              "\n",
              "    [theme=dark] .colab-df-convert:hover {\n",
              "      background-color: #434B5C;\n",
              "      box-shadow: 0px 1px 3px 1px rgba(0, 0, 0, 0.15);\n",
              "      filter: drop-shadow(0px 1px 2px rgba(0, 0, 0, 0.3));\n",
              "      fill: #FFFFFF;\n",
              "    }\n",
              "  </style>\n",
              "\n",
              "    <script>\n",
              "      const buttonEl =\n",
              "        document.querySelector('#df-8e462e2a-f7ee-4b3d-8878-fd39232f7851 button.colab-df-convert');\n",
              "      buttonEl.style.display =\n",
              "        google.colab.kernel.accessAllowed ? 'block' : 'none';\n",
              "\n",
              "      async function convertToInteractive(key) {\n",
              "        const element = document.querySelector('#df-8e462e2a-f7ee-4b3d-8878-fd39232f7851');\n",
              "        const dataTable =\n",
              "          await google.colab.kernel.invokeFunction('convertToInteractive',\n",
              "                                                    [key], {});\n",
              "        if (!dataTable) return;\n",
              "\n",
              "        const docLinkHtml = 'Like what you see? Visit the ' +\n",
              "          '<a target=\"_blank\" href=https://colab.research.google.com/notebooks/data_table.ipynb>data table notebook</a>'\n",
              "          + ' to learn more about interactive tables.';\n",
              "        element.innerHTML = '';\n",
              "        dataTable['output_type'] = 'display_data';\n",
              "        await google.colab.output.renderOutput(dataTable, element);\n",
              "        const docLink = document.createElement('div');\n",
              "        docLink.innerHTML = docLinkHtml;\n",
              "        element.appendChild(docLink);\n",
              "      }\n",
              "    </script>\n",
              "  </div>\n",
              "\n",
              "\n",
              "<div id=\"df-da652309-2d4b-4eae-af55-1d6ceb495266\">\n",
              "  <button class=\"colab-df-quickchart\" onclick=\"quickchart('df-da652309-2d4b-4eae-af55-1d6ceb495266')\"\n",
              "            title=\"Suggest charts\"\n",
              "            style=\"display:none;\">\n",
              "\n",
              "<svg xmlns=\"http://www.w3.org/2000/svg\" height=\"24px\"viewBox=\"0 0 24 24\"\n",
              "     width=\"24px\">\n",
              "    <g>\n",
              "        <path d=\"M19 3H5c-1.1 0-2 .9-2 2v14c0 1.1.9 2 2 2h14c1.1 0 2-.9 2-2V5c0-1.1-.9-2-2-2zM9 17H7v-7h2v7zm4 0h-2V7h2v10zm4 0h-2v-4h2v4z\"/>\n",
              "    </g>\n",
              "</svg>\n",
              "  </button>\n",
              "\n",
              "<style>\n",
              "  .colab-df-quickchart {\n",
              "      --bg-color: #E8F0FE;\n",
              "      --fill-color: #1967D2;\n",
              "      --hover-bg-color: #E2EBFA;\n",
              "      --hover-fill-color: #174EA6;\n",
              "      --disabled-fill-color: #AAA;\n",
              "      --disabled-bg-color: #DDD;\n",
              "  }\n",
              "\n",
              "  [theme=dark] .colab-df-quickchart {\n",
              "      --bg-color: #3B4455;\n",
              "      --fill-color: #D2E3FC;\n",
              "      --hover-bg-color: #434B5C;\n",
              "      --hover-fill-color: #FFFFFF;\n",
              "      --disabled-bg-color: #3B4455;\n",
              "      --disabled-fill-color: #666;\n",
              "  }\n",
              "\n",
              "  .colab-df-quickchart {\n",
              "    background-color: var(--bg-color);\n",
              "    border: none;\n",
              "    border-radius: 50%;\n",
              "    cursor: pointer;\n",
              "    display: none;\n",
              "    fill: var(--fill-color);\n",
              "    height: 32px;\n",
              "    padding: 0;\n",
              "    width: 32px;\n",
              "  }\n",
              "\n",
              "  .colab-df-quickchart:hover {\n",
              "    background-color: var(--hover-bg-color);\n",
              "    box-shadow: 0 1px 2px rgba(60, 64, 67, 0.3), 0 1px 3px 1px rgba(60, 64, 67, 0.15);\n",
              "    fill: var(--button-hover-fill-color);\n",
              "  }\n",
              "\n",
              "  .colab-df-quickchart-complete:disabled,\n",
              "  .colab-df-quickchart-complete:disabled:hover {\n",
              "    background-color: var(--disabled-bg-color);\n",
              "    fill: var(--disabled-fill-color);\n",
              "    box-shadow: none;\n",
              "  }\n",
              "\n",
              "  .colab-df-spinner {\n",
              "    border: 2px solid var(--fill-color);\n",
              "    border-color: transparent;\n",
              "    border-bottom-color: var(--fill-color);\n",
              "    animation:\n",
              "      spin 1s steps(1) infinite;\n",
              "  }\n",
              "\n",
              "  @keyframes spin {\n",
              "    0% {\n",
              "      border-color: transparent;\n",
              "      border-bottom-color: var(--fill-color);\n",
              "      border-left-color: var(--fill-color);\n",
              "    }\n",
              "    20% {\n",
              "      border-color: transparent;\n",
              "      border-left-color: var(--fill-color);\n",
              "      border-top-color: var(--fill-color);\n",
              "    }\n",
              "    30% {\n",
              "      border-color: transparent;\n",
              "      border-left-color: var(--fill-color);\n",
              "      border-top-color: var(--fill-color);\n",
              "      border-right-color: var(--fill-color);\n",
              "    }\n",
              "    40% {\n",
              "      border-color: transparent;\n",
              "      border-right-color: var(--fill-color);\n",
              "      border-top-color: var(--fill-color);\n",
              "    }\n",
              "    60% {\n",
              "      border-color: transparent;\n",
              "      border-right-color: var(--fill-color);\n",
              "    }\n",
              "    80% {\n",
              "      border-color: transparent;\n",
              "      border-right-color: var(--fill-color);\n",
              "      border-bottom-color: var(--fill-color);\n",
              "    }\n",
              "    90% {\n",
              "      border-color: transparent;\n",
              "      border-bottom-color: var(--fill-color);\n",
              "    }\n",
              "  }\n",
              "</style>\n",
              "\n",
              "  <script>\n",
              "    async function quickchart(key) {\n",
              "      const quickchartButtonEl =\n",
              "        document.querySelector('#' + key + ' button');\n",
              "      quickchartButtonEl.disabled = true;  // To prevent multiple clicks.\n",
              "      quickchartButtonEl.classList.add('colab-df-spinner');\n",
              "      try {\n",
              "        const charts = await google.colab.kernel.invokeFunction(\n",
              "            'suggestCharts', [key], {});\n",
              "      } catch (error) {\n",
              "        console.error('Error during call to suggestCharts:', error);\n",
              "      }\n",
              "      quickchartButtonEl.classList.remove('colab-df-spinner');\n",
              "      quickchartButtonEl.classList.add('colab-df-quickchart-complete');\n",
              "    }\n",
              "    (() => {\n",
              "      let quickchartButtonEl =\n",
              "        document.querySelector('#df-da652309-2d4b-4eae-af55-1d6ceb495266 button');\n",
              "      quickchartButtonEl.style.display =\n",
              "        google.colab.kernel.accessAllowed ? 'block' : 'none';\n",
              "    })();\n",
              "  </script>\n",
              "</div>\n",
              "\n",
              "    </div>\n",
              "  </div>\n"
            ],
            "text/plain": [
              "   total_bill   tip     sex smoker  day    time  size\n",
              "0       16.99  1.01  Female     No  Sun  Dinner     2\n",
              "1       10.34  1.66    Male     No  Sun  Dinner     3\n",
              "2       21.01  3.50    Male     No  Sun  Dinner     3\n",
              "3       23.68  3.31    Male     No  Sun  Dinner     2\n",
              "4       24.59  3.61  Female     No  Sun  Dinner     4"
            ]
          },
          "execution_count": 13,
          "metadata": {},
          "output_type": "execute_result"
        }
      ],
      "source": [
        "import seaborn as sns\n",
        "import pandas as pd\n",
        "\n",
        "tips = sns.load_dataset(\"tips\")\n",
        "tips.head()"
      ]
    },
    {
      "cell_type": "markdown",
      "metadata": {
        "id": "OknU4yioyVgO"
      },
      "source": [
        "### 시각화\n",
        "- 독립성 검정을 시행할 수 있는 변수는 총 3개인 것 확인 가능\n",
        "- 시나리오\n",
        "  + 성별에 따라서 팁의 액수 평균차이가 존재할까?\n",
        "  + 흡연여부에 따라서 팁의 액수 평균차이가 존재할까?\n",
        "  + 시간대에 따라서 팁의 액수 평균차이가 존재할까?"
      ]
    },
    {
      "cell_type": "code",
      "execution_count": 14,
      "metadata": {
        "colab": {
          "base_uri": "https://localhost:8080/",
          "height": 303
        },
        "id": "gQWnN2s013Mz",
        "outputId": "5c4c508f-fd3b-4a56-f880-47673dd97ddc"
      },
      "outputs": [
        {
          "data": {
            "text/html": [
              "<div>\n",
              "<style scoped>\n",
              "    .dataframe tbody tr th:only-of-type {\n",
              "        vertical-align: middle;\n",
              "    }\n",
              "\n",
              "    .dataframe tbody tr th {\n",
              "        vertical-align: top;\n",
              "    }\n",
              "\n",
              "    .dataframe thead th {\n",
              "        text-align: right;\n",
              "    }\n",
              "</style>\n",
              "<table border=\"1\" class=\"dataframe\">\n",
              "  <thead>\n",
              "    <tr style=\"text-align: right;\">\n",
              "      <th></th>\n",
              "      <th>count</th>\n",
              "    </tr>\n",
              "    <tr>\n",
              "      <th>size</th>\n",
              "      <th></th>\n",
              "    </tr>\n",
              "  </thead>\n",
              "  <tbody>\n",
              "    <tr>\n",
              "      <th>2</th>\n",
              "      <td>156</td>\n",
              "    </tr>\n",
              "    <tr>\n",
              "      <th>3</th>\n",
              "      <td>38</td>\n",
              "    </tr>\n",
              "    <tr>\n",
              "      <th>4</th>\n",
              "      <td>37</td>\n",
              "    </tr>\n",
              "    <tr>\n",
              "      <th>5</th>\n",
              "      <td>5</td>\n",
              "    </tr>\n",
              "    <tr>\n",
              "      <th>1</th>\n",
              "      <td>4</td>\n",
              "    </tr>\n",
              "    <tr>\n",
              "      <th>6</th>\n",
              "      <td>4</td>\n",
              "    </tr>\n",
              "  </tbody>\n",
              "</table>\n",
              "</div><br><label><b>dtype:</b> int64</label>"
            ],
            "text/plain": [
              "size\n",
              "2    156\n",
              "3     38\n",
              "4     37\n",
              "5      5\n",
              "1      4\n",
              "6      4\n",
              "Name: count, dtype: int64"
            ]
          },
          "execution_count": 14,
          "metadata": {},
          "output_type": "execute_result"
        }
      ],
      "source": [
        "tips['size'].value_counts()"
      ]
    },
    {
      "cell_type": "markdown",
      "metadata": {
        "id": "SkQrAPu82trS"
      },
      "source": [
        "- 히스토그램\n",
        "  + 데이터가 연속형일때, 숫자일 때 그래프 그려야 함\n",
        "  + tip을 그립니다."
      ]
    },
    {
      "cell_type": "code",
      "execution_count": 15,
      "metadata": {
        "colab": {
          "base_uri": "https://localhost:8080/",
          "height": 472
        },
        "id": "NW8BwY0N4OE_",
        "outputId": "32e7cab6-72da-4a36-8b2a-4fe96d43c5b4"
      },
      "outputs": [
        {
          "data": {
            "image/png": "[encoded data removed]",
            "text/plain": [
              "<Figure size 1500x500 with 2 Axes>"
            ]
          },
          "metadata": {},
          "output_type": "display_data"
        }
      ],
      "source": [
        "import matplotlib.pyplot as plt\n",
        "import seaborn as sns\n",
        "\n",
        "# 데이터 분리\n",
        "smoker_yes = tips.loc[tips['smoker'] == 'Yes', :]\n",
        "smoker_no = tips.loc[tips['smoker'] == 'No', :]\n",
        "\n",
        "# 시각화\n",
        "fig, ax = plt.subplots(nrows = 1, ncols = 2, figsize=(15, 5))\n",
        "sns.histplot(smoker_yes['tip'], ax = ax[0])\n",
        "sns.histplot(smoker_no['tip'], ax = ax[1])\n",
        "plt.show()"
      ]
    },
    {
      "cell_type": "markdown",
      "metadata": {
        "id": "zOSVNHGk58r7"
      },
      "source": [
        "### 정규분포를 이루는 데이터"
      ]
    },
    {
      "cell_type": "code",
      "execution_count": 16,
      "metadata": {
        "colab": {
          "base_uri": "https://localhost:8080/",
          "height": 544
        },
        "id": "Ptfsq4Kz4sQx",
        "outputId": "592bc717-f227-48d2-e3bc-5665acf3b424"
      },
      "outputs": [
        {
          "name": "stderr",
          "output_type": "stream",
          "text": [
            "/usr/local/lib/python3.10/dist-packages/IPython/core/pylabtools.py:151: UserWarning: Glyph 8722 (\\N{MINUS SIGN}) missing from current font.\n",
            "  fig.canvas.print_figure(bytes_io, **kw)\n"
          ]
        },
        {
          "data": {
            "image/png": "[encoded data removed]",
            "text/plain": [
              "<Figure size 1500x500 with 2 Axes>"
            ]
          },
          "metadata": {},
          "output_type": "display_data"
        },
        {
          "data": {
            "text/plain": [
              "ShapiroResult(statistic=0.9898833815158516, pvalue=0.6551676754214818)"
            ]
          },
          "execution_count": 16,
          "metadata": {},
          "output_type": "execute_result"
        }
      ],
      "source": [
        "# 정규분포를 이루는 데이터\n",
        "import numpy as np\n",
        "import seaborn as sns\n",
        "from matplotlib import pyplot as plt\n",
        "from scipy.stats import probplot\n",
        "from scipy.stats import shapiro\n",
        "\n",
        "np.random.seed(42)\n",
        "normal_data = np.random.normal(size=100)\n",
        "\n",
        "fig, axes = plt.subplots(1, 2, figsize=(15, 5))\n",
        "\n",
        "probplot(normal_data, dist=\"norm\", plot = axes[0]);\n",
        "sns.histplot(normal_data, axes=axes[1]);\n",
        "\n",
        "titles = ['QQ plot', 'Histogram']\n",
        "for i, ax in enumerate(axes):\n",
        "    ax.spines[['right', 'top']].set_visible(False)\n",
        "    ax.set_title(titles[i])\n",
        "\n",
        "plt.show()\n",
        "shapiro(normal_data)"
      ]
    },
    {
      "cell_type": "markdown",
      "metadata": {
        "id": "CVfdlrwQ63l3"
      },
      "source": [
        "### 샤피로 윌크 검정\n",
        "- 데이터가 30개 미만이라는 가정 하에 정규성 검정 시행\n",
        "  + 할 필요는 없음\n",
        "- 가설검정\n",
        "  + 귀무가설 : 데이터는 정규분포다\n",
        "  + 대립가설 : 데이터는 정규분포가 아니다"
      ]
    },
    {
      "cell_type": "code",
      "execution_count": 17,
      "metadata": {
        "colab": {
          "base_uri": "https://localhost:8080/",
          "height": 544
        },
        "id": "mzLjDzAC6-L1",
        "outputId": "797cb04f-0aaf-4d4b-cd6a-a1fb293b3b39"
      },
      "outputs": [
        {
          "name": "stderr",
          "output_type": "stream",
          "text": [
            "/usr/local/lib/python3.10/dist-packages/IPython/core/pylabtools.py:151: UserWarning: Glyph 8722 (\\N{MINUS SIGN}) missing from current font.\n",
            "  fig.canvas.print_figure(bytes_io, **kw)\n"
          ]
        },
        {
          "data": {
            "image/png": "[encoded data removed]",
            "text/plain": [
              "<Figure size 1500x500 with 2 Axes>"
            ]
          },
          "metadata": {},
          "output_type": "display_data"
        },
        {
          "data": {
            "text/plain": [
              "ShapiroResult(statistic=0.9040014583128897, pvalue=2.0587577392218136e-08)"
            ]
          },
          "execution_count": 17,
          "metadata": {},
          "output_type": "execute_result"
        }
      ],
      "source": [
        "# 정규분포를 이루지 못하는 데이터\n",
        "import numpy as np\n",
        "import seaborn as sns\n",
        "from matplotlib import pyplot as plt\n",
        "from scipy.stats import probplot\n",
        "from scipy.stats import shapiro\n",
        "\n",
        "np.random.seed(42)\n",
        "smoker_yes = tips.loc[tips['smoker'] == 'No', :]\n",
        "normal_data = smoker_yes['tip']\n",
        "\n",
        "fig, axes = plt.subplots(1, 2, figsize=(15, 5))\n",
        "\n",
        "probplot(normal_data, dist=\"norm\", plot = axes[0]);\n",
        "sns.histplot(normal_data, axes=axes[1]);\n",
        "\n",
        "titles = ['QQ plot', 'Histogram']\n",
        "for i, ax in enumerate(axes):\n",
        "    ax.spines[['right', 'top']].set_visible(False)\n",
        "    ax.set_title(titles[i])\n",
        "\n",
        "plt.show()\n",
        "shapiro(normal_data)"
      ]
    },
    {
      "cell_type": "markdown",
      "metadata": {
        "id": "fF_XBg_w78b3"
      },
      "source": [
        "### 등분산성 검정"
      ]
    },
    {
      "cell_type": "code",
      "execution_count": 18,
      "metadata": {
        "colab": {
          "base_uri": "https://localhost:8080/",
          "height": 453
        },
        "id": "9DZsylZt9xil",
        "outputId": "7ffb7e4b-f184-4012-bd51-96ab3d1c793a"
      },
      "outputs": [
        {
          "data": {
            "image/png": "[encoded data removed]",
            "text/plain": [
              "<Figure size 640x480 with 1 Axes>"
            ]
          },
          "metadata": {},
          "output_type": "display_data"
        }
      ],
      "source": [
        "fig, ax = plt.subplots(1, 1)\n",
        "sns.pointplot(x = 'smoker', y = 'tip', data = tips)\n",
        "sns.despine()"
      ]
    },
    {
      "cell_type": "code",
      "execution_count": 19,
      "metadata": {
        "colab": {
          "base_uri": "https://localhost:8080/"
        },
        "id": "rDbrgb429F2k",
        "outputId": "fb9fe722-2353-46ea-8ac3-8cb4a6869b17"
      },
      "outputs": [
        {
          "data": {
            "text/plain": [
              "(0.0, 1.0)"
            ]
          },
          "execution_count": 19,
          "metadata": {},
          "output_type": "execute_result"
        }
      ],
      "source": [
        "from scipy import stats\n",
        "\n",
        "# tips\n",
        "# smoker_yes, smoker_no\n",
        "\n",
        "t, p = stats.levene(smoker_yes['tip'], smoker_no['tip'])\n",
        "t, p # 0.88"
      ]
    },
    {
      "cell_type": "markdown",
      "metadata": {
        "id": "3KTZack1-jnc"
      },
      "source": [
        "- 두 그룹의 분산은 같다."
      ]
    },
    {
      "cell_type": "markdown",
      "metadata": {
        "id": "a6fv9Net-xQI"
      },
      "source": [
        "### 가설검정\n",
        "- 귀무가설 : 두 그룹의 평균은 같다\n",
        "- 대립가설 : 두 그룹의 평균은 다르다"
      ]
    },
    {
      "cell_type": "code",
      "execution_count": 20,
      "metadata": {
        "colab": {
          "base_uri": "https://localhost:8080/"
        },
        "id": "Uqg10iwY-mmg",
        "outputId": "27fe8188-6a38-45ec-c621-2ccb6208f13c"
      },
      "outputs": [
        {
          "name": "stdout",
          "output_type": "stream",
          "text": [
            "T-statistic: 0.0\n",
            "P-value: 1.0\n"
          ]
        }
      ],
      "source": [
        "from scipy import stats\n",
        "t_stat, p_val = stats.ttest_ind(smoker_yes['tip'], smoker_no['tip'], equal_var=True)\n",
        "\n",
        "# Output the results\n",
        "print(f\"T-statistic: {t_stat}\") # 0.09\n",
        "print(f\"P-value: {p_val}\") # 0.9265"
      ]
    },
    {
      "cell_type": "markdown",
      "metadata": {
        "id": "8JF8HOzd-7gn"
      },
      "source": [
        "### 박스플롯 시각화\n",
        "- 두그룹의 박스플롯 시각화 결과 확인"
      ]
    },
    {
      "cell_type": "markdown",
      "metadata": {
        "id": "ka6tRegCcZgo"
      },
      "source": [
        "## t-검정 paired t-test\n",
        "- 절차\n",
        "  + 정규성 검정\n",
        "    + 귀무가설 : 데이터는 정규분포다\n",
        "    + 대립가설 : 데이터는 정규분포가 아니다.\n",
        "    + 여기서의 데이터는 difference 값을 의미"
      ]
    },
    {
      "cell_type": "code",
      "execution_count": 21,
      "metadata": {
        "colab": {
          "base_uri": "https://localhost:8080/",
          "height": 81
        },
        "id": "OqaLzeFzguZL",
        "outputId": "0d7c7935-1f08-486c-fc4a-c6018b5207e5"
      },
      "outputs": [
        {
          "data": {
            "application/vnd.google.colaboratory.intrinsic+json": {
              "summary": "{\n  \"name\": \"df\",\n  \"rows\": 20,\n  \"fields\": [\n    {\n      \"column\": \"Student_ID\",\n      \"properties\": {\n        \"dtype\": \"number\",\n        \"std\": 5,\n        \"min\": 1,\n        \"max\": 20,\n        \"num_unique_values\": 20,\n        \"samples\": [\n          1,\n          18,\n          16\n        ],\n        \"semantic_type\": \"\",\n        \"description\": \"\"\n      }\n    },\n    {\n      \"column\": \"Exam1_Score\",\n      \"properties\": {\n        \"dtype\": \"number\",\n        \"std\": 15,\n        \"min\": 51,\n        \"max\": 98,\n        \"num_unique_values\": 18,\n        \"samples\": [\n          68,\n          97,\n          85\n        ],\n        \"semantic_type\": \"\",\n        \"description\": \"\"\n      }\n    },\n    {\n      \"column\": \"Exam2_Score\",\n      \"properties\": {\n        \"dtype\": \"number\",\n        \"std\": 16,\n        \"min\": 39,\n        \"max\": 102,\n        \"num_unique_values\": 15,\n        \"samples\": [\n          86,\n          102,\n          58\n        ],\n        \"semantic_type\": \"\",\n        \"description\": \"\"\n      }\n    },\n    {\n      \"column\": \"diff\",\n      \"properties\": {\n        \"dtype\": \"number\",\n        \"std\": 9,\n        \"min\": -14,\n        \"max\": 18,\n        \"num_unique_values\": 15,\n        \"samples\": [\n          4,\n          18,\n          -10\n        ],\n        \"semantic_type\": \"\",\n        \"description\": \"\"\n      }\n    }\n  ]\n}",
              "type": "dataframe",
              "variable_name": "df"
            },
            "text/html": [
              "\n",
              "  <div id=\"df-b1948dee-4e52-46ca-8cbb-f504ee2ee45c\" class=\"colab-df-container\">\n",
              "    <div>\n",
              "<style scoped>\n",
              "    .dataframe tbody tr th:only-of-type {\n",
              "        vertical-align: middle;\n",
              "    }\n",
              "\n",
              "    .dataframe tbody tr th {\n",
              "        vertical-align: top;\n",
              "    }\n",
              "\n",
              "    .dataframe thead th {\n",
              "        text-align: right;\n",
              "    }\n",
              "</style>\n",
              "<table border=\"1\" class=\"dataframe\">\n",
              "  <thead>\n",
              "    <tr style=\"text-align: right;\">\n",
              "      <th></th>\n",
              "      <th>Student_ID</th>\n",
              "      <th>Exam1_Score</th>\n",
              "      <th>Exam2_Score</th>\n",
              "      <th>diff</th>\n",
              "    </tr>\n",
              "  </thead>\n",
              "  <tbody>\n",
              "    <tr>\n",
              "      <th>0</th>\n",
              "      <td>1</td>\n",
              "      <td>68</td>\n",
              "      <td>58</td>\n",
              "      <td>-10</td>\n",
              "    </tr>\n",
              "  </tbody>\n",
              "</table>\n",
              "</div>\n",
              "    <div class=\"colab-df-buttons\">\n",
              "\n",
              "  <div class=\"colab-df-container\">\n",
              "    <button class=\"colab-df-convert\" onclick=\"convertToInteractive('df-b1948dee-4e52-46ca-8cbb-f504ee2ee45c')\"\n",
              "            title=\"Convert this dataframe to an interactive table.\"\n",
              "            style=\"display:none;\">\n",
              "\n",
              "  <svg xmlns=\"http://www.w3.org/2000/svg\" height=\"24px\" viewBox=\"0 -960 960 960\">\n",
              "    <path d=\"M120-120v-720h720v720H120Zm60-500h600v-160H180v160Zm220 220h160v-160H400v160Zm0 220h160v-160H400v160ZM180-400h160v-160H180v160Zm440 0h160v-160H620v160ZM180-180h160v-160H180v160Zm440 0h160v-160H620v160Z\"/>\n",
              "  </svg>\n",
              "    </button>\n",
              "\n",
              "  <style>\n",
              "    .colab-df-container {\n",
              "      display:flex;\n",
              "      gap: 12px;\n",
              "    }\n",
              "\n",
              "    .colab-df-convert {\n",
              "      background-color: #E8F0FE;\n",
              "      border: none;\n",
              "      border-radius: 50%;\n",
              "      cursor: pointer;\n",
              "      display: none;\n",
              "      fill: #1967D2;\n",
              "      height: 32px;\n",
              "      padding: 0 0 0 0;\n",
              "      width: 32px;\n",
              "    }\n",
              "\n",
              "    .colab-df-convert:hover {\n",
              "      background-color: #E2EBFA;\n",
              "      box-shadow: 0px 1px 2px rgba(60, 64, 67, 0.3), 0px 1px 3px 1px rgba(60, 64, 67, 0.15);\n",
              "      fill: #174EA6;\n",
              "    }\n",
              "\n",
              "    .colab-df-buttons div {\n",
              "      margin-bottom: 4px;\n",
              "    }\n",
              "\n",
              "    [theme=dark] .colab-df-convert {\n",
              "      background-color: #3B4455;\n",
              "      fill: #D2E3FC;\n",
              "    }\n",
              "\n",
              "    [theme=dark] .colab-df-convert:hover {\n",
              "      background-color: #434B5C;\n",
              "      box-shadow: 0px 1px 3px 1px rgba(0, 0, 0, 0.15);\n",
              "      filter: drop-shadow(0px 1px 2px rgba(0, 0, 0, 0.3));\n",
              "      fill: #FFFFFF;\n",
              "    }\n",
              "  </style>\n",
              "\n",
              "    <script>\n",
              "      const buttonEl =\n",
              "        document.querySelector('#df-b1948dee-4e52-46ca-8cbb-f504ee2ee45c button.colab-df-convert');\n",
              "      buttonEl.style.display =\n",
              "        google.colab.kernel.accessAllowed ? 'block' : 'none';\n",
              "\n",
              "      async function convertToInteractive(key) {\n",
              "        const element = document.querySelector('#df-b1948dee-4e52-46ca-8cbb-f504ee2ee45c');\n",
              "        const dataTable =\n",
              "          await google.colab.kernel.invokeFunction('convertToInteractive',\n",
              "                                                    [key], {});\n",
              "        if (!dataTable) return;\n",
              "\n",
              "        const docLinkHtml = 'Like what you see? Visit the ' +\n",
              "          '<a target=\"_blank\" href=https://colab.research.google.com/notebooks/data_table.ipynb>data table notebook</a>'\n",
              "          + ' to learn more about interactive tables.';\n",
              "        element.innerHTML = '';\n",
              "        dataTable['output_type'] = 'display_data';\n",
              "        await google.colab.output.renderOutput(dataTable, element);\n",
              "        const docLink = document.createElement('div');\n",
              "        docLink.innerHTML = docLinkHtml;\n",
              "        element.appendChild(docLink);\n",
              "      }\n",
              "    </script>\n",
              "  </div>\n",
              "\n",
              "\n",
              "    </div>\n",
              "  </div>\n"
            ],
            "text/plain": [
              "   Student_ID  Exam1_Score  Exam2_Score  diff\n",
              "0           1           68           58   -10"
            ]
          },
          "execution_count": 21,
          "metadata": {},
          "output_type": "execute_result"
        }
      ],
      "source": [
        "import pandas as pd\n",
        "import numpy as np\n",
        "\n",
        "np.random.seed(42)\n",
        "\n",
        "exam1_scores = np.random.uniform(50, 100, 20)\n",
        "exam2_scores = exam1_scores + np.random.normal(0, 10, 20)\n",
        "\n",
        "df = pd.DataFrame({\n",
        "    'Student_ID': range(1, 21),\n",
        "    'Exam1_Score': exam1_scores,\n",
        "    'Exam2_Score': exam2_scores\n",
        "})\n",
        "\n",
        "df['Exam1_Score'] = df['Exam1_Score'].astype('int64')\n",
        "df['Exam2_Score'] = df['Exam2_Score'].astype('int64')\n",
        "df['diff'] = df['Exam2_Score'] - df['Exam1_Score']\n",
        "\n",
        "df.head(1)"
      ]
    },
    {
      "cell_type": "code",
      "execution_count": 22,
      "metadata": {
        "colab": {
          "base_uri": "https://localhost:8080/"
        },
        "id": "WlB__lcog6Ul",
        "outputId": "6cebe857-46eb-4e6e-b9d5-bd2291c4a956"
      },
      "outputs": [
        {
          "data": {
            "text/plain": [
              "(20, 4)"
            ]
          },
          "execution_count": 22,
          "metadata": {},
          "output_type": "execute_result"
        }
      ],
      "source": [
        "df.shape"
      ]
    },
    {
      "cell_type": "code",
      "execution_count": 23,
      "metadata": {
        "colab": {
          "base_uri": "https://localhost:8080/",
          "height": 544
        },
        "id": "kD6FyVWXhPN0",
        "outputId": "6ee15b8c-4419-4bc9-e9d8-5ecbef0b9116"
      },
      "outputs": [
        {
          "name": "stderr",
          "output_type": "stream",
          "text": [
            "/usr/local/lib/python3.10/dist-packages/IPython/core/pylabtools.py:151: UserWarning: Glyph 8722 (\\N{MINUS SIGN}) missing from current font.\n",
            "  fig.canvas.print_figure(bytes_io, **kw)\n"
          ]
        },
        {
          "data": {
            "image/png": "[encoded data removed]",
            "text/plain": [
              "<Figure size 1500x500 with 2 Axes>"
            ]
          },
          "metadata": {},
          "output_type": "display_data"
        },
        {
          "data": {
            "text/plain": [
              "ShapiroResult(statistic=0.9267928086509175, pvalue=0.13394043618879037)"
            ]
          },
          "execution_count": 23,
          "metadata": {},
          "output_type": "execute_result"
        }
      ],
      "source": [
        "np.random.seed(42)\n",
        "normal_data = df['diff']\n",
        "\n",
        "fig, axes = plt.subplots(1, 2, figsize=(15, 5))\n",
        "\n",
        "probplot(normal_data, dist=\"norm\", plot = axes[0]);\n",
        "sns.histplot(normal_data, axes=axes[1]);\n",
        "\n",
        "titles = ['QQ plot', 'Histogram']\n",
        "for i, ax in enumerate(axes):\n",
        "    ax.spines[['right', 'top']].set_visible(False)\n",
        "    ax.set_title(titles[i])\n",
        "\n",
        "plt.show()\n",
        "shapiro(normal_data)"
      ]
    },
    {
      "cell_type": "markdown",
      "metadata": {
        "id": "O7kPrRd3hg7b"
      },
      "source": [
        "- 가설검정"
      ]
    },
    {
      "cell_type": "code",
      "execution_count": 25,
      "metadata": {
        "colab": {
          "base_uri": "https://localhost:8080/"
        },
        "id": "SAl2xVbVhirC",
        "outputId": "c4e941b7-9982-4903-c0f8-64de911d8236"
      },
      "outputs": [
        {
          "data": {
            "text/plain": [
              "(1.343652804294727, 0.19488870621876497)"
            ]
          },
          "execution_count": 25,
          "metadata": {},
          "output_type": "execute_result"
        }
      ],
      "source": [
        "from scipy import stats\n",
        "\n",
        "# 코드 작성\n",
        "t, p = stats.ttest_rel(df['Exam1_Score'], df['Exam2_Score'])\n",
        "\n",
        "t, p"
      ]
    },
    {
      "cell_type": "markdown",
      "metadata": {
        "id": "ooV9vjkJk17z"
      },
      "source": [
        "# 분산분석"
      ]
    },
    {
      "cell_type": "code",
      "execution_count": 28,
      "metadata": {
        "colab": {
          "base_uri": "https://localhost:8080/",
          "height": 241
        },
        "id": "MIcaUg66k0Sm",
        "outputId": "be221d20-b2c6-4fbc-d7e1-1b8b91329b8b"
      },
      "outputs": [
        {
          "data": {
            "text/html": [
              "<div>\n",
              "<style scoped>\n",
              "    .dataframe tbody tr th:only-of-type {\n",
              "        vertical-align: middle;\n",
              "    }\n",
              "\n",
              "    .dataframe tbody tr th {\n",
              "        vertical-align: top;\n",
              "    }\n",
              "\n",
              "    .dataframe thead th {\n",
              "        text-align: right;\n",
              "    }\n",
              "</style>\n",
              "<table border=\"1\" class=\"dataframe\">\n",
              "  <thead>\n",
              "    <tr style=\"text-align: right;\">\n",
              "      <th></th>\n",
              "      <th>count</th>\n",
              "    </tr>\n",
              "    <tr>\n",
              "      <th>day</th>\n",
              "      <th></th>\n",
              "    </tr>\n",
              "  </thead>\n",
              "  <tbody>\n",
              "    <tr>\n",
              "      <th>Sat</th>\n",
              "      <td>87</td>\n",
              "    </tr>\n",
              "    <tr>\n",
              "      <th>Sun</th>\n",
              "      <td>76</td>\n",
              "    </tr>\n",
              "    <tr>\n",
              "      <th>Thur</th>\n",
              "      <td>62</td>\n",
              "    </tr>\n",
              "    <tr>\n",
              "      <th>Fri</th>\n",
              "      <td>19</td>\n",
              "    </tr>\n",
              "  </tbody>\n",
              "</table>\n",
              "</div><br><label><b>dtype:</b> int64</label>"
            ],
            "text/plain": [
              "day\n",
              "Sat     87\n",
              "Sun     76\n",
              "Thur    62\n",
              "Fri     19\n",
              "Name: count, dtype: int64"
            ]
          },
          "execution_count": 28,
          "metadata": {},
          "output_type": "execute_result"
        }
      ],
      "source": [
        "import seaborn as sns\n",
        "\n",
        "tips = sns.load_dataset(\"tips\")\n",
        "tips['day'].value_counts()"
      ]
    },
    {
      "cell_type": "markdown",
      "metadata": {
        "id": "DEN7HddPum78"
      },
      "source": [
        "## pingouin"
      ]
    },
    {
      "cell_type": "code",
      "execution_count": 33,
      "metadata": {
        "id": "PWgJ4jHou1mO"
      },
      "outputs": [],
      "source": [
        "!pip install pingouin -qq"
      ]
    },
    {
      "cell_type": "markdown",
      "metadata": {
        "id": "gcJm9Rb9xHkr"
      },
      "source": [
        "tips 데이터, tip, day"
      ]
    },
    {
      "cell_type": "code",
      "execution_count": 46,
      "metadata": {
        "colab": {
          "base_uri": "https://localhost:8080/",
          "height": 241
        },
        "id": "uzBJ_EmayZmN",
        "outputId": "7f671ead-4a3f-46d7-c3ed-5ceda089e1da"
      },
      "outputs": [
        {
          "data": {
            "text/html": [
              "<div>\n",
              "<style scoped>\n",
              "    .dataframe tbody tr th:only-of-type {\n",
              "        vertical-align: middle;\n",
              "    }\n",
              "\n",
              "    .dataframe tbody tr th {\n",
              "        vertical-align: top;\n",
              "    }\n",
              "\n",
              "    .dataframe thead th {\n",
              "        text-align: right;\n",
              "    }\n",
              "</style>\n",
              "<table border=\"1\" class=\"dataframe\">\n",
              "  <thead>\n",
              "    <tr style=\"text-align: right;\">\n",
              "      <th></th>\n",
              "      <th>count</th>\n",
              "    </tr>\n",
              "    <tr>\n",
              "      <th>day</th>\n",
              "      <th></th>\n",
              "    </tr>\n",
              "  </thead>\n",
              "  <tbody>\n",
              "    <tr>\n",
              "      <th>Sat</th>\n",
              "      <td>87</td>\n",
              "    </tr>\n",
              "    <tr>\n",
              "      <th>Sun</th>\n",
              "      <td>76</td>\n",
              "    </tr>\n",
              "    <tr>\n",
              "      <th>Thur</th>\n",
              "      <td>62</td>\n",
              "    </tr>\n",
              "    <tr>\n",
              "      <th>Fri</th>\n",
              "      <td>0</td>\n",
              "    </tr>\n",
              "  </tbody>\n",
              "</table>\n",
              "</div><br><label><b>dtype:</b> int64</label>"
            ],
            "text/plain": [
              "day\n",
              "Sat     87\n",
              "Sun     76\n",
              "Thur    62\n",
              "Fri      0\n",
              "Name: count, dtype: int64"
            ]
          },
          "execution_count": 46,
          "metadata": {},
          "output_type": "execute_result"
        }
      ],
      "source": [
        "tips = tips.loc[tips['day'].isin(['Thur', 'Sat', 'Sun']), :].reset_index(drop=True).copy()\n",
        "tips['day'].value_counts()"
      ]
    },
    {
      "cell_type": "code",
      "execution_count": 54,
      "metadata": {
        "colab": {
          "base_uri": "https://localhost:8080/",
          "height": 81
        },
        "id": "PUKvsHYbukt8",
        "outputId": "f1c913cc-39d7-464d-dab4-d364cb7479e4"
      },
      "outputs": [
        {
          "data": {
            "application/vnd.google.colaboratory.intrinsic+json": {
              "summary": "{\n  \"name\": \"pg\",\n  \"rows\": 1,\n  \"fields\": [\n    {\n      \"column\": \"W\",\n      \"properties\": {\n        \"dtype\": \"number\",\n        \"std\": null,\n        \"min\": 2.5094455324862346,\n        \"max\": 2.5094455324862346,\n        \"num_unique_values\": 1,\n        \"samples\": [\n          2.5094455324862346\n        ],\n        \"semantic_type\": \"\",\n        \"description\": \"\"\n      }\n    },\n    {\n      \"column\": \"pval\",\n      \"properties\": {\n        \"dtype\": \"number\",\n        \"std\": null,\n        \"min\": 0.031097915971187055,\n        \"max\": 0.031097915971187055,\n        \"num_unique_values\": 1,\n        \"samples\": [\n          0.031097915971187055\n        ],\n        \"semantic_type\": \"\",\n        \"description\": \"\"\n      }\n    },\n    {\n      \"column\": \"equal_var\",\n      \"properties\": {\n        \"dtype\": \"boolean\",\n        \"num_unique_values\": 1,\n        \"samples\": [\n          false\n        ],\n        \"semantic_type\": \"\",\n        \"description\": \"\"\n      }\n    }\n  ]\n}",
              "type": "dataframe"
            },
            "text/html": [
              "\n",
              "  <div id=\"df-eaee833e-c5c6-4892-a39b-bcd7d19fd098\" class=\"colab-df-container\">\n",
              "    <div>\n",
              "<style scoped>\n",
              "    .dataframe tbody tr th:only-of-type {\n",
              "        vertical-align: middle;\n",
              "    }\n",
              "\n",
              "    .dataframe tbody tr th {\n",
              "        vertical-align: top;\n",
              "    }\n",
              "\n",
              "    .dataframe thead th {\n",
              "        text-align: right;\n",
              "    }\n",
              "</style>\n",
              "<table border=\"1\" class=\"dataframe\">\n",
              "  <thead>\n",
              "    <tr style=\"text-align: right;\">\n",
              "      <th></th>\n",
              "      <th>W</th>\n",
              "      <th>pval</th>\n",
              "      <th>equal_var</th>\n",
              "    </tr>\n",
              "  </thead>\n",
              "  <tbody>\n",
              "    <tr>\n",
              "      <th>levene</th>\n",
              "      <td>2.509446</td>\n",
              "      <td>0.031098</td>\n",
              "      <td>False</td>\n",
              "    </tr>\n",
              "  </tbody>\n",
              "</table>\n",
              "</div>\n",
              "    <div class=\"colab-df-buttons\">\n",
              "\n",
              "  <div class=\"colab-df-container\">\n",
              "    <button class=\"colab-df-convert\" onclick=\"convertToInteractive('df-eaee833e-c5c6-4892-a39b-bcd7d19fd098')\"\n",
              "            title=\"Convert this dataframe to an interactive table.\"\n",
              "            style=\"display:none;\">\n",
              "\n",
              "  <svg xmlns=\"http://www.w3.org/2000/svg\" height=\"24px\" viewBox=\"0 -960 960 960\">\n",
              "    <path d=\"M120-120v-720h720v720H120Zm60-500h600v-160H180v160Zm220 220h160v-160H400v160Zm0 220h160v-160H400v160ZM180-400h160v-160H180v160Zm440 0h160v-160H620v160ZM180-180h160v-160H180v160Zm440 0h160v-160H620v160Z\"/>\n",
              "  </svg>\n",
              "    </button>\n",
              "\n",
              "  <style>\n",
              "    .colab-df-container {\n",
              "      display:flex;\n",
              "      gap: 12px;\n",
              "    }\n",
              "\n",
              "    .colab-df-convert {\n",
              "      background-color: #E8F0FE;\n",
              "      border: none;\n",
              "      border-radius: 50%;\n",
              "      cursor: pointer;\n",
              "      display: none;\n",
              "      fill: #1967D2;\n",
              "      height: 32px;\n",
              "      padding: 0 0 0 0;\n",
              "      width: 32px;\n",
              "    }\n",
              "\n",
              "    .colab-df-convert:hover {\n",
              "      background-color: #E2EBFA;\n",
              "      box-shadow: 0px 1px 2px rgba(60, 64, 67, 0.3), 0px 1px 3px 1px rgba(60, 64, 67, 0.15);\n",
              "      fill: #174EA6;\n",
              "    }\n",
              "\n",
              "    .colab-df-buttons div {\n",
              "      margin-bottom: 4px;\n",
              "    }\n",
              "\n",
              "    [theme=dark] .colab-df-convert {\n",
              "      background-color: #3B4455;\n",
              "      fill: #D2E3FC;\n",
              "    }\n",
              "\n",
              "    [theme=dark] .colab-df-convert:hover {\n",
              "      background-color: #434B5C;\n",
              "      box-shadow: 0px 1px 3px 1px rgba(0, 0, 0, 0.15);\n",
              "      filter: drop-shadow(0px 1px 2px rgba(0, 0, 0, 0.3));\n",
              "      fill: #FFFFFF;\n",
              "    }\n",
              "  </style>\n",
              "\n",
              "    <script>\n",
              "      const buttonEl =\n",
              "        document.querySelector('#df-eaee833e-c5c6-4892-a39b-bcd7d19fd098 button.colab-df-convert');\n",
              "      buttonEl.style.display =\n",
              "        google.colab.kernel.accessAllowed ? 'block' : 'none';\n",
              "\n",
              "      async function convertToInteractive(key) {\n",
              "        const element = document.querySelector('#df-eaee833e-c5c6-4892-a39b-bcd7d19fd098');\n",
              "        const dataTable =\n",
              "          await google.colab.kernel.invokeFunction('convertToInteractive',\n",
              "                                                    [key], {});\n",
              "        if (!dataTable) return;\n",
              "\n",
              "        const docLinkHtml = 'Like what you see? Visit the ' +\n",
              "          '<a target=\"_blank\" href=https://colab.research.google.com/notebooks/data_table.ipynb>data table notebook</a>'\n",
              "          + ' to learn more about interactive tables.';\n",
              "        element.innerHTML = '';\n",
              "        dataTable['output_type'] = 'display_data';\n",
              "        await google.colab.output.renderOutput(dataTable, element);\n",
              "        const docLink = document.createElement('div');\n",
              "        docLink.innerHTML = docLinkHtml;\n",
              "        element.appendChild(docLink);\n",
              "      }\n",
              "    </script>\n",
              "  </div>\n",
              "\n",
              "\n",
              "    </div>\n",
              "  </div>\n"
            ],
            "text/plain": [
              "               W      pval  equal_var\n",
              "levene  2.509446  0.031098      False"
            ]
          },
          "execution_count": 54,
          "metadata": {},
          "output_type": "execute_result"
        }
      ],
      "source": [
        "import pingouin as pg\n",
        "\n",
        "df = pg.read_dataset('anova')\n",
        "\n",
        "# 등분산성 검정\n",
        "pg.homoscedasticity(data=tips, dv='tip', group='size')"
      ]
    },
    {
      "cell_type": "code",
      "execution_count": 37,
      "metadata": {
        "colab": {
          "base_uri": "https://localhost:8080/",
          "height": 206
        },
        "id": "Y50OoSLOw2jB",
        "outputId": "4ad23cf9-cc75-4f88-b154-38bbf08a0dbd"
      },
      "outputs": [
        {
          "data": {
            "application/vnd.google.colaboratory.intrinsic+json": {
              "summary": "{\n  \"name\": \"df\",\n  \"rows\": 19,\n  \"fields\": [\n    {\n      \"column\": \"Subject\",\n      \"properties\": {\n        \"dtype\": \"number\",\n        \"std\": 5,\n        \"min\": 1,\n        \"max\": 19,\n        \"num_unique_values\": 19,\n        \"samples\": [\n          1,\n          6,\n          12\n        ],\n        \"semantic_type\": \"\",\n        \"description\": \"\"\n      }\n    },\n    {\n      \"column\": \"Hair color\",\n      \"properties\": {\n        \"dtype\": \"category\",\n        \"num_unique_values\": 4,\n        \"samples\": [\n          \"Dark Blond\",\n          \"Dark Brunette\",\n          \"Light Blond\"\n        ],\n        \"semantic_type\": \"\",\n        \"description\": \"\"\n      }\n    },\n    {\n      \"column\": \"Pain threshold\",\n      \"properties\": {\n        \"dtype\": \"number\",\n        \"std\": 11,\n        \"min\": 30,\n        \"max\": 71,\n        \"num_unique_values\": 18,\n        \"samples\": [\n          62,\n          60,\n          41\n        ],\n        \"semantic_type\": \"\",\n        \"description\": \"\"\n      }\n    }\n  ]\n}",
              "type": "dataframe",
              "variable_name": "df"
            },
            "text/html": [
              "\n",
              "  <div id=\"df-53cc4088-9d63-4f02-8d28-d23871113696\" class=\"colab-df-container\">\n",
              "    <div>\n",
              "<style scoped>\n",
              "    .dataframe tbody tr th:only-of-type {\n",
              "        vertical-align: middle;\n",
              "    }\n",
              "\n",
              "    .dataframe tbody tr th {\n",
              "        vertical-align: top;\n",
              "    }\n",
              "\n",
              "    .dataframe thead th {\n",
              "        text-align: right;\n",
              "    }\n",
              "</style>\n",
              "<table border=\"1\" class=\"dataframe\">\n",
              "  <thead>\n",
              "    <tr style=\"text-align: right;\">\n",
              "      <th></th>\n",
              "      <th>Subject</th>\n",
              "      <th>Hair color</th>\n",
              "      <th>Pain threshold</th>\n",
              "    </tr>\n",
              "  </thead>\n",
              "  <tbody>\n",
              "    <tr>\n",
              "      <th>0</th>\n",
              "      <td>1</td>\n",
              "      <td>Light Blond</td>\n",
              "      <td>62</td>\n",
              "    </tr>\n",
              "    <tr>\n",
              "      <th>1</th>\n",
              "      <td>2</td>\n",
              "      <td>Light Blond</td>\n",
              "      <td>60</td>\n",
              "    </tr>\n",
              "    <tr>\n",
              "      <th>2</th>\n",
              "      <td>3</td>\n",
              "      <td>Light Blond</td>\n",
              "      <td>71</td>\n",
              "    </tr>\n",
              "    <tr>\n",
              "      <th>3</th>\n",
              "      <td>4</td>\n",
              "      <td>Light Blond</td>\n",
              "      <td>55</td>\n",
              "    </tr>\n",
              "    <tr>\n",
              "      <th>4</th>\n",
              "      <td>5</td>\n",
              "      <td>Light Blond</td>\n",
              "      <td>48</td>\n",
              "    </tr>\n",
              "  </tbody>\n",
              "</table>\n",
              "</div>\n",
              "    <div class=\"colab-df-buttons\">\n",
              "\n",
              "  <div class=\"colab-df-container\">\n",
              "    <button class=\"colab-df-convert\" onclick=\"convertToInteractive('df-53cc4088-9d63-4f02-8d28-d23871113696')\"\n",
              "            title=\"Convert this dataframe to an interactive table.\"\n",
              "            style=\"display:none;\">\n",
              "\n",
              "  <svg xmlns=\"http://www.w3.org/2000/svg\" height=\"24px\" viewBox=\"0 -960 960 960\">\n",
              "    <path d=\"M120-120v-720h720v720H120Zm60-500h600v-160H180v160Zm220 220h160v-160H400v160Zm0 220h160v-160H400v160ZM180-400h160v-160H180v160Zm440 0h160v-160H620v160ZM180-180h160v-160H180v160Zm440 0h160v-160H620v160Z\"/>\n",
              "  </svg>\n",
              "    </button>\n",
              "\n",
              "  <style>\n",
              "    .colab-df-container {\n",
              "      display:flex;\n",
              "      gap: 12px;\n",
              "    }\n",
              "\n",
              "    .colab-df-convert {\n",
              "      background-color: #E8F0FE;\n",
              "      border: none;\n",
              "      border-radius: 50%;\n",
              "      cursor: pointer;\n",
              "      display: none;\n",
              "      fill: #1967D2;\n",
              "      height: 32px;\n",
              "      padding: 0 0 0 0;\n",
              "      width: 32px;\n",
              "    }\n",
              "\n",
              "    .colab-df-convert:hover {\n",
              "      background-color: #E2EBFA;\n",
              "      box-shadow: 0px 1px 2px rgba(60, 64, 67, 0.3), 0px 1px 3px 1px rgba(60, 64, 67, 0.15);\n",
              "      fill: #174EA6;\n",
              "    }\n",
              "\n",
              "    .colab-df-buttons div {\n",
              "      margin-bottom: 4px;\n",
              "    }\n",
              "\n",
              "    [theme=dark] .colab-df-convert {\n",
              "      background-color: #3B4455;\n",
              "      fill: #D2E3FC;\n",
              "    }\n",
              "\n",
              "    [theme=dark] .colab-df-convert:hover {\n",
              "      background-color: #434B5C;\n",
              "      box-shadow: 0px 1px 3px 1px rgba(0, 0, 0, 0.15);\n",
              "      filter: drop-shadow(0px 1px 2px rgba(0, 0, 0, 0.3));\n",
              "      fill: #FFFFFF;\n",
              "    }\n",
              "  </style>\n",
              "\n",
              "    <script>\n",
              "      const buttonEl =\n",
              "        document.querySelector('#df-53cc4088-9d63-4f02-8d28-d23871113696 button.colab-df-convert');\n",
              "      buttonEl.style.display =\n",
              "        google.colab.kernel.accessAllowed ? 'block' : 'none';\n",
              "\n",
              "      async function convertToInteractive(key) {\n",
              "        const element = document.querySelector('#df-53cc4088-9d63-4f02-8d28-d23871113696');\n",
              "        const dataTable =\n",
              "          await google.colab.kernel.invokeFunction('convertToInteractive',\n",
              "                                                    [key], {});\n",
              "        if (!dataTable) return;\n",
              "\n",
              "        const docLinkHtml = 'Like what you see? Visit the ' +\n",
              "          '<a target=\"_blank\" href=https://colab.research.google.com/notebooks/data_table.ipynb>data table notebook</a>'\n",
              "          + ' to learn more about interactive tables.';\n",
              "        element.innerHTML = '';\n",
              "        dataTable['output_type'] = 'display_data';\n",
              "        await google.colab.output.renderOutput(dataTable, element);\n",
              "        const docLink = document.createElement('div');\n",
              "        docLink.innerHTML = docLinkHtml;\n",
              "        element.appendChild(docLink);\n",
              "      }\n",
              "    </script>\n",
              "  </div>\n",
              "\n",
              "\n",
              "<div id=\"df-ac411756-509d-4e5e-8af7-b5d89875eb4c\">\n",
              "  <button class=\"colab-df-quickchart\" onclick=\"quickchart('df-ac411756-509d-4e5e-8af7-b5d89875eb4c')\"\n",
              "            title=\"Suggest charts\"\n",
              "            style=\"display:none;\">\n",
              "\n",
              "<svg xmlns=\"http://www.w3.org/2000/svg\" height=\"24px\"viewBox=\"0 0 24 24\"\n",
              "     width=\"24px\">\n",
              "    <g>\n",
              "        <path d=\"M19 3H5c-1.1 0-2 .9-2 2v14c0 1.1.9 2 2 2h14c1.1 0 2-.9 2-2V5c0-1.1-.9-2-2-2zM9 17H7v-7h2v7zm4 0h-2V7h2v10zm4 0h-2v-4h2v4z\"/>\n",
              "    </g>\n",
              "</svg>\n",
              "  </button>\n",
              "\n",
              "<style>\n",
              "  .colab-df-quickchart {\n",
              "      --bg-color: #E8F0FE;\n",
              "      --fill-color: #1967D2;\n",
              "      --hover-bg-color: #E2EBFA;\n",
              "      --hover-fill-color: #174EA6;\n",
              "      --disabled-fill-color: #AAA;\n",
              "      --disabled-bg-color: #DDD;\n",
              "  }\n",
              "\n",
              "  [theme=dark] .colab-df-quickchart {\n",
              "      --bg-color: #3B4455;\n",
              "      --fill-color: #D2E3FC;\n",
              "      --hover-bg-color: #434B5C;\n",
              "      --hover-fill-color: #FFFFFF;\n",
              "      --disabled-bg-color: #3B4455;\n",
              "      --disabled-fill-color: #666;\n",
              "  }\n",
              "\n",
              "  .colab-df-quickchart {\n",
              "    background-color: var(--bg-color);\n",
              "    border: none;\n",
              "    border-radius: 50%;\n",
              "    cursor: pointer;\n",
              "    display: none;\n",
              "    fill: var(--fill-color);\n",
              "    height: 32px;\n",
              "    padding: 0;\n",
              "    width: 32px;\n",
              "  }\n",
              "\n",
              "  .colab-df-quickchart:hover {\n",
              "    background-color: var(--hover-bg-color);\n",
              "    box-shadow: 0 1px 2px rgba(60, 64, 67, 0.3), 0 1px 3px 1px rgba(60, 64, 67, 0.15);\n",
              "    fill: var(--button-hover-fill-color);\n",
              "  }\n",
              "\n",
              "  .colab-df-quickchart-complete:disabled,\n",
              "  .colab-df-quickchart-complete:disabled:hover {\n",
              "    background-color: var(--disabled-bg-color);\n",
              "    fill: var(--disabled-fill-color);\n",
              "    box-shadow: none;\n",
              "  }\n",
              "\n",
              "  .colab-df-spinner {\n",
              "    border: 2px solid var(--fill-color);\n",
              "    border-color: transparent;\n",
              "    border-bottom-color: var(--fill-color);\n",
              "    animation:\n",
              "      spin 1s steps(1) infinite;\n",
              "  }\n",
              "\n",
              "  @keyframes spin {\n",
              "    0% {\n",
              "      border-color: transparent;\n",
              "      border-bottom-color: var(--fill-color);\n",
              "      border-left-color: var(--fill-color);\n",
              "    }\n",
              "    20% {\n",
              "      border-color: transparent;\n",
              "      border-left-color: var(--fill-color);\n",
              "      border-top-color: var(--fill-color);\n",
              "    }\n",
              "    30% {\n",
              "      border-color: transparent;\n",
              "      border-left-color: var(--fill-color);\n",
              "      border-top-color: var(--fill-color);\n",
              "      border-right-color: var(--fill-color);\n",
              "    }\n",
              "    40% {\n",
              "      border-color: transparent;\n",
              "      border-right-color: var(--fill-color);\n",
              "      border-top-color: var(--fill-color);\n",
              "    }\n",
              "    60% {\n",
              "      border-color: transparent;\n",
              "      border-right-color: var(--fill-color);\n",
              "    }\n",
              "    80% {\n",
              "      border-color: transparent;\n",
              "      border-right-color: var(--fill-color);\n",
              "      border-bottom-color: var(--fill-color);\n",
              "    }\n",
              "    90% {\n",
              "      border-color: transparent;\n",
              "      border-bottom-color: var(--fill-color);\n",
              "    }\n",
              "  }\n",
              "</style>\n",
              "\n",
              "  <script>\n",
              "    async function quickchart(key) {\n",
              "      const quickchartButtonEl =\n",
              "        document.querySelector('#' + key + ' button');\n",
              "      quickchartButtonEl.disabled = true;  // To prevent multiple clicks.\n",
              "      quickchartButtonEl.classList.add('colab-df-spinner');\n",
              "      try {\n",
              "        const charts = await google.colab.kernel.invokeFunction(\n",
              "            'suggestCharts', [key], {});\n",
              "      } catch (error) {\n",
              "        console.error('Error during call to suggestCharts:', error);\n",
              "      }\n",
              "      quickchartButtonEl.classList.remove('colab-df-spinner');\n",
              "      quickchartButtonEl.classList.add('colab-df-quickchart-complete');\n",
              "    }\n",
              "    (() => {\n",
              "      let quickchartButtonEl =\n",
              "        document.querySelector('#df-ac411756-509d-4e5e-8af7-b5d89875eb4c button');\n",
              "      quickchartButtonEl.style.display =\n",
              "        google.colab.kernel.accessAllowed ? 'block' : 'none';\n",
              "    })();\n",
              "  </script>\n",
              "</div>\n",
              "\n",
              "    </div>\n",
              "  </div>\n"
            ],
            "text/plain": [
              "   Subject   Hair color  Pain threshold\n",
              "0        1  Light Blond              62\n",
              "1        2  Light Blond              60\n",
              "2        3  Light Blond              71\n",
              "3        4  Light Blond              55\n",
              "4        5  Light Blond              48"
            ]
          },
          "execution_count": 37,
          "metadata": {},
          "output_type": "execute_result"
        }
      ],
      "source": [
        "df.head()"
      ]
    },
    {
      "cell_type": "code",
      "execution_count": 51,
      "metadata": {
        "colab": {
          "base_uri": "https://localhost:8080/",
          "height": 81
        },
        "id": "-oDzVahCutM5",
        "outputId": "68d45bf1-70bf-4075-990d-1e8cd24e2d55"
      },
      "outputs": [
        {
          "data": {
            "application/vnd.google.colaboratory.intrinsic+json": {
              "summary": "{\n  \"name\": \"pg\",\n  \"rows\": 1,\n  \"fields\": [\n    {\n      \"column\": \"Source\",\n      \"properties\": {\n        \"dtype\": \"string\",\n        \"num_unique_values\": 1,\n        \"samples\": [\n          \"day\"\n        ],\n        \"semantic_type\": \"\",\n        \"description\": \"\"\n      }\n    },\n    {\n      \"column\": \"ddof1\",\n      \"properties\": {\n        \"dtype\": \"number\",\n        \"std\": null,\n        \"min\": 2,\n        \"max\": 2,\n        \"num_unique_values\": 1,\n        \"samples\": [\n          2\n        ],\n        \"semantic_type\": \"\",\n        \"description\": \"\"\n      }\n    },\n    {\n      \"column\": \"ddof2\",\n      \"properties\": {\n        \"dtype\": \"number\",\n        \"std\": null,\n        \"min\": 222,\n        \"max\": 222,\n        \"num_unique_values\": 1,\n        \"samples\": [\n          222\n        ],\n        \"semantic_type\": \"\",\n        \"description\": \"\"\n      }\n    },\n    {\n      \"column\": \"F\",\n      \"properties\": {\n        \"dtype\": \"number\",\n        \"std\": null,\n        \"min\": 2.05623570621834,\n        \"max\": 2.05623570621834,\n        \"num_unique_values\": 1,\n        \"samples\": [\n          2.05623570621834\n        ],\n        \"semantic_type\": \"\",\n        \"description\": \"\"\n      }\n    },\n    {\n      \"column\": \"p-unc\",\n      \"properties\": {\n        \"dtype\": \"number\",\n        \"std\": null,\n        \"min\": 0.13036433461566135,\n        \"max\": 0.13036433461566135,\n        \"num_unique_values\": 1,\n        \"samples\": [\n          0.13036433461566135\n        ],\n        \"semantic_type\": \"\",\n        \"description\": \"\"\n      }\n    },\n    {\n      \"column\": \"np2\",\n      \"properties\": {\n        \"dtype\": \"number\",\n        \"std\": null,\n        \"min\": 0.018187724837766227,\n        \"max\": 0.018187724837766227,\n        \"num_unique_values\": 1,\n        \"samples\": [\n          0.018187724837766227\n        ],\n        \"semantic_type\": \"\",\n        \"description\": \"\"\n      }\n    }\n  ]\n}",
              "type": "dataframe"
            },
            "text/html": [
              "\n",
              "  <div id=\"df-ca301f8c-18f7-492c-923c-e61398ba6139\" class=\"colab-df-container\">\n",
              "    <div>\n",
              "<style scoped>\n",
              "    .dataframe tbody tr th:only-of-type {\n",
              "        vertical-align: middle;\n",
              "    }\n",
              "\n",
              "    .dataframe tbody tr th {\n",
              "        vertical-align: top;\n",
              "    }\n",
              "\n",
              "    .dataframe thead th {\n",
              "        text-align: right;\n",
              "    }\n",
              "</style>\n",
              "<table border=\"1\" class=\"dataframe\">\n",
              "  <thead>\n",
              "    <tr style=\"text-align: right;\">\n",
              "      <th></th>\n",
              "      <th>Source</th>\n",
              "      <th>ddof1</th>\n",
              "      <th>ddof2</th>\n",
              "      <th>F</th>\n",
              "      <th>p-unc</th>\n",
              "      <th>np2</th>\n",
              "    </tr>\n",
              "  </thead>\n",
              "  <tbody>\n",
              "    <tr>\n",
              "      <th>0</th>\n",
              "      <td>day</td>\n",
              "      <td>2</td>\n",
              "      <td>222</td>\n",
              "      <td>2.056236</td>\n",
              "      <td>0.130364</td>\n",
              "      <td>0.018188</td>\n",
              "    </tr>\n",
              "  </tbody>\n",
              "</table>\n",
              "</div>\n",
              "    <div class=\"colab-df-buttons\">\n",
              "\n",
              "  <div class=\"colab-df-container\">\n",
              "    <button class=\"colab-df-convert\" onclick=\"convertToInteractive('df-ca301f8c-18f7-492c-923c-e61398ba6139')\"\n",
              "            title=\"Convert this dataframe to an interactive table.\"\n",
              "            style=\"display:none;\">\n",
              "\n",
              "  <svg xmlns=\"http://www.w3.org/2000/svg\" height=\"24px\" viewBox=\"0 -960 960 960\">\n",
              "    <path d=\"M120-120v-720h720v720H120Zm60-500h600v-160H180v160Zm220 220h160v-160H400v160Zm0 220h160v-160H400v160ZM180-400h160v-160H180v160Zm440 0h160v-160H620v160ZM180-180h160v-160H180v160Zm440 0h160v-160H620v160Z\"/>\n",
              "  </svg>\n",
              "    </button>\n",
              "\n",
              "  <style>\n",
              "    .colab-df-container {\n",
              "      display:flex;\n",
              "      gap: 12px;\n",
              "    }\n",
              "\n",
              "    .colab-df-convert {\n",
              "      background-color: #E8F0FE;\n",
              "      border: none;\n",
              "      border-radius: 50%;\n",
              "      cursor: pointer;\n",
              "      display: none;\n",
              "      fill: #1967D2;\n",
              "      height: 32px;\n",
              "      padding: 0 0 0 0;\n",
              "      width: 32px;\n",
              "    }\n",
              "\n",
              "    .colab-df-convert:hover {\n",
              "      background-color: #E2EBFA;\n",
              "      box-shadow: 0px 1px 2px rgba(60, 64, 67, 0.3), 0px 1px 3px 1px rgba(60, 64, 67, 0.15);\n",
              "      fill: #174EA6;\n",
              "    }\n",
              "\n",
              "    .colab-df-buttons div {\n",
              "      margin-bottom: 4px;\n",
              "    }\n",
              "\n",
              "    [theme=dark] .colab-df-convert {\n",
              "      background-color: #3B4455;\n",
              "      fill: #D2E3FC;\n",
              "    }\n",
              "\n",
              "    [theme=dark] .colab-df-convert:hover {\n",
              "      background-color: #434B5C;\n",
              "      box-shadow: 0px 1px 3px 1px rgba(0, 0, 0, 0.15);\n",
              "      filter: drop-shadow(0px 1px 2px rgba(0, 0, 0, 0.3));\n",
              "      fill: #FFFFFF;\n",
              "    }\n",
              "  </style>\n",
              "\n",
              "    <script>\n",
              "      const buttonEl =\n",
              "        document.querySelector('#df-ca301f8c-18f7-492c-923c-e61398ba6139 button.colab-df-convert');\n",
              "      buttonEl.style.display =\n",
              "        google.colab.kernel.accessAllowed ? 'block' : 'none';\n",
              "\n",
              "      async function convertToInteractive(key) {\n",
              "        const element = document.querySelector('#df-ca301f8c-18f7-492c-923c-e61398ba6139');\n",
              "        const dataTable =\n",
              "          await google.colab.kernel.invokeFunction('convertToInteractive',\n",
              "                                                    [key], {});\n",
              "        if (!dataTable) return;\n",
              "\n",
              "        const docLinkHtml = 'Like what you see? Visit the ' +\n",
              "          '<a target=\"_blank\" href=https://colab.research.google.com/notebooks/data_table.ipynb>data table notebook</a>'\n",
              "          + ' to learn more about interactive tables.';\n",
              "        element.innerHTML = '';\n",
              "        dataTable['output_type'] = 'display_data';\n",
              "        await google.colab.output.renderOutput(dataTable, element);\n",
              "        const docLink = document.createElement('div');\n",
              "        docLink.innerHTML = docLinkHtml;\n",
              "        element.appendChild(docLink);\n",
              "      }\n",
              "    </script>\n",
              "  </div>\n",
              "\n",
              "\n",
              "    </div>\n",
              "  </div>\n"
            ],
            "text/plain": [
              "  Source  ddof1  ddof2         F     p-unc       np2\n",
              "0    day      2    222  2.056236  0.130364  0.018188"
            ]
          },
          "execution_count": 51,
          "metadata": {},
          "output_type": "execute_result"
        }
      ],
      "source": [
        "# 분산분석\n",
        "pg.anova(data=tips, dv='tip', between='day')"
      ]
    },
    {
      "cell_type": "code",
      "execution_count": 53,
      "metadata": {
        "colab": {
          "base_uri": "https://localhost:8080/",
          "height": 143
        },
        "id": "tmungeHrvQe0",
        "outputId": "3fd805ec-c09e-4984-cf61-c5b8b62c6fdb"
      },
      "outputs": [
        {
          "data": {
            "application/vnd.google.colaboratory.intrinsic+json": {
              "summary": "{\n  \"name\": \"pg\",\n  \"rows\": 3,\n  \"fields\": [\n    {\n      \"column\": \"A\",\n      \"properties\": {\n        \"dtype\": \"string\",\n        \"num_unique_values\": 2,\n        \"samples\": [\n          \"Sat\",\n          \"Thur\"\n        ],\n        \"semantic_type\": \"\",\n        \"description\": \"\"\n      }\n    },\n    {\n      \"column\": \"B\",\n      \"properties\": {\n        \"dtype\": \"string\",\n        \"num_unique_values\": 2,\n        \"samples\": [\n          \"Sun\",\n          \"Sat\"\n        ],\n        \"semantic_type\": \"\",\n        \"description\": \"\"\n      }\n    },\n    {\n      \"column\": \"mean(A)\",\n      \"properties\": {\n        \"dtype\": \"number\",\n        \"std\": 0.12797074681876625,\n        \"min\": 2.7714516129032254,\n        \"max\": 2.993103448275862,\n        \"num_unique_values\": 2,\n        \"samples\": [\n          2.993103448275862,\n          2.7714516129032254\n        ],\n        \"semantic_type\": \"\",\n        \"description\": \"\"\n      }\n    },\n    {\n      \"column\": \"mean(B)\",\n      \"properties\": {\n        \"dtype\": \"number\",\n        \"std\": 0.15128201177844866,\n        \"min\": 2.993103448275862,\n        \"max\": 3.2551315789473683,\n        \"num_unique_values\": 2,\n        \"samples\": [\n          3.2551315789473683,\n          2.993103448275862\n        ],\n        \"semantic_type\": \"\",\n        \"description\": \"\"\n      }\n    },\n    {\n      \"column\": \"diff\",\n      \"properties\": {\n        \"dtype\": \"number\",\n        \"std\": 0.1410783013136818,\n        \"min\": -0.4836799660441429,\n        \"max\": -0.22165183537263644,\n        \"num_unique_values\": 3,\n        \"samples\": [\n          -0.22165183537263644,\n          -0.4836799660441429\n        ],\n        \"semantic_type\": \"\",\n        \"description\": \"\"\n      }\n    },\n    {\n      \"column\": \"se\",\n      \"properties\": {\n        \"dtype\": \"number\",\n        \"std\": 0.010057155435671072,\n        \"min\": 0.22028207223276056,\n        \"max\": 0.2400980737741984,\n        \"num_unique_values\": 3,\n        \"samples\": [\n          0.23317900066303307,\n          0.2400980737741984\n        ],\n        \"semantic_type\": \"\",\n        \"description\": \"\"\n      }\n    },\n    {\n      \"column\": \"T\",\n      \"properties\": {\n        \"dtype\": \"number\",\n        \"std\": 0.5582257651076856,\n        \"min\": -2.014509981029762,\n        \"max\": -0.9505651655697138,\n        \"num_unique_values\": 3,\n        \"samples\": [\n          -0.9505651655697138,\n          -2.014509981029762\n        ],\n        \"semantic_type\": \"\",\n        \"description\": \"\"\n      }\n    },\n    {\n      \"column\": \"p-tukey\",\n      \"properties\": {\n        \"dtype\": \"number\",\n        \"std\": 0.2556050822130123,\n        \"min\": 0.11107727315965987,\n        \"max\": 0.608893722618957,\n        \"num_unique_values\": 3,\n        \"samples\": [\n          0.608893722618957,\n          0.11107727315965987\n        ],\n        \"semantic_type\": \"\",\n        \"description\": \"\"\n      }\n    },\n    {\n      \"column\": \"hedges\",\n      \"properties\": {\n        \"dtype\": \"number\",\n        \"std\": 0.1307615164279406,\n        \"min\": -0.3887623325113837,\n        \"max\": -0.14885692460105693,\n        \"num_unique_values\": 3,\n        \"samples\": [\n          -0.14885692460105693,\n          -0.3887623325113837\n        ],\n        \"semantic_type\": \"\",\n        \"description\": \"\"\n      }\n    }\n  ]\n}",
              "type": "dataframe"
            },
            "text/html": [
              "\n",
              "  <div id=\"df-dcaa11d0-3997-4300-a3d7-cb5de2cda1b8\" class=\"colab-df-container\">\n",
              "    <div>\n",
              "<style scoped>\n",
              "    .dataframe tbody tr th:only-of-type {\n",
              "        vertical-align: middle;\n",
              "    }\n",
              "\n",
              "    .dataframe tbody tr th {\n",
              "        vertical-align: top;\n",
              "    }\n",
              "\n",
              "    .dataframe thead th {\n",
              "        text-align: right;\n",
              "    }\n",
              "</style>\n",
              "<table border=\"1\" class=\"dataframe\">\n",
              "  <thead>\n",
              "    <tr style=\"text-align: right;\">\n",
              "      <th></th>\n",
              "      <th>A</th>\n",
              "      <th>B</th>\n",
              "      <th>mean(A)</th>\n",
              "      <th>mean(B)</th>\n",
              "      <th>diff</th>\n",
              "      <th>se</th>\n",
              "      <th>T</th>\n",
              "      <th>p-tukey</th>\n",
              "      <th>hedges</th>\n",
              "    </tr>\n",
              "  </thead>\n",
              "  <tbody>\n",
              "    <tr>\n",
              "      <th>0</th>\n",
              "      <td>Thur</td>\n",
              "      <td>Sat</td>\n",
              "      <td>2.771452</td>\n",
              "      <td>2.993103</td>\n",
              "      <td>-0.221652</td>\n",
              "      <td>0.233179</td>\n",
              "      <td>-0.950565</td>\n",
              "      <td>0.608894</td>\n",
              "      <td>-0.148857</td>\n",
              "    </tr>\n",
              "    <tr>\n",
              "      <th>1</th>\n",
              "      <td>Thur</td>\n",
              "      <td>Sun</td>\n",
              "      <td>2.771452</td>\n",
              "      <td>3.255132</td>\n",
              "      <td>-0.483680</td>\n",
              "      <td>0.240098</td>\n",
              "      <td>-2.014510</td>\n",
              "      <td>0.111077</td>\n",
              "      <td>-0.388762</td>\n",
              "    </tr>\n",
              "    <tr>\n",
              "      <th>2</th>\n",
              "      <td>Sat</td>\n",
              "      <td>Sun</td>\n",
              "      <td>2.993103</td>\n",
              "      <td>3.255132</td>\n",
              "      <td>-0.262028</td>\n",
              "      <td>0.220282</td>\n",
              "      <td>-1.189512</td>\n",
              "      <td>0.460663</td>\n",
              "      <td>-0.178644</td>\n",
              "    </tr>\n",
              "  </tbody>\n",
              "</table>\n",
              "</div>\n",
              "    <div class=\"colab-df-buttons\">\n",
              "\n",
              "  <div class=\"colab-df-container\">\n",
              "    <button class=\"colab-df-convert\" onclick=\"convertToInteractive('df-dcaa11d0-3997-4300-a3d7-cb5de2cda1b8')\"\n",
              "            title=\"Convert this dataframe to an interactive table.\"\n",
              "            style=\"display:none;\">\n",
              "\n",
              "  <svg xmlns=\"http://www.w3.org/2000/svg\" height=\"24px\" viewBox=\"0 -960 960 960\">\n",
              "    <path d=\"M120-120v-720h720v720H120Zm60-500h600v-160H180v160Zm220 220h160v-160H400v160Zm0 220h160v-160H400v160ZM180-400h160v-160H180v160Zm440 0h160v-160H620v160ZM180-180h160v-160H180v160Zm440 0h160v-160H620v160Z\"/>\n",
              "  </svg>\n",
              "    </button>\n",
              "\n",
              "  <style>\n",
              "    .colab-df-container {\n",
              "      display:flex;\n",
              "      gap: 12px;\n",
              "    }\n",
              "\n",
              "    .colab-df-convert {\n",
              "      background-color: #E8F0FE;\n",
              "      border: none;\n",
              "      border-radius: 50%;\n",
              "      cursor: pointer;\n",
              "      display: none;\n",
              "      fill: #1967D2;\n",
              "      height: 32px;\n",
              "      padding: 0 0 0 0;\n",
              "      width: 32px;\n",
              "    }\n",
              "\n",
              "    .colab-df-convert:hover {\n",
              "      background-color: #E2EBFA;\n",
              "      box-shadow: 0px 1px 2px rgba(60, 64, 67, 0.3), 0px 1px 3px 1px rgba(60, 64, 67, 0.15);\n",
              "      fill: #174EA6;\n",
              "    }\n",
              "\n",
              "    .colab-df-buttons div {\n",
              "      margin-bottom: 4px;\n",
              "    }\n",
              "\n",
              "    [theme=dark] .colab-df-convert {\n",
              "      background-color: #3B4455;\n",
              "      fill: #D2E3FC;\n",
              "    }\n",
              "\n",
              "    [theme=dark] .colab-df-convert:hover {\n",
              "      background-color: #434B5C;\n",
              "      box-shadow: 0px 1px 3px 1px rgba(0, 0, 0, 0.15);\n",
              "      filter: drop-shadow(0px 1px 2px rgba(0, 0, 0, 0.3));\n",
              "      fill: #FFFFFF;\n",
              "    }\n",
              "  </style>\n",
              "\n",
              "    <script>\n",
              "      const buttonEl =\n",
              "        document.querySelector('#df-dcaa11d0-3997-4300-a3d7-cb5de2cda1b8 button.colab-df-convert');\n",
              "      buttonEl.style.display =\n",
              "        google.colab.kernel.accessAllowed ? 'block' : 'none';\n",
              "\n",
              "      async function convertToInteractive(key) {\n",
              "        const element = document.querySelector('#df-dcaa11d0-3997-4300-a3d7-cb5de2cda1b8');\n",
              "        const dataTable =\n",
              "          await google.colab.kernel.invokeFunction('convertToInteractive',\n",
              "                                                    [key], {});\n",
              "        if (!dataTable) return;\n",
              "\n",
              "        const docLinkHtml = 'Like what you see? Visit the ' +\n",
              "          '<a target=\"_blank\" href=https://colab.research.google.com/notebooks/data_table.ipynb>data table notebook</a>'\n",
              "          + ' to learn more about interactive tables.';\n",
              "        element.innerHTML = '';\n",
              "        dataTable['output_type'] = 'display_data';\n",
              "        await google.colab.output.renderOutput(dataTable, element);\n",
              "        const docLink = document.createElement('div');\n",
              "        docLink.innerHTML = docLinkHtml;\n",
              "        element.appendChild(docLink);\n",
              "      }\n",
              "    </script>\n",
              "  </div>\n",
              "\n",
              "\n",
              "<div id=\"df-eff30477-6238-4b69-8787-d6c3fe991453\">\n",
              "  <button class=\"colab-df-quickchart\" onclick=\"quickchart('df-eff30477-6238-4b69-8787-d6c3fe991453')\"\n",
              "            title=\"Suggest charts\"\n",
              "            style=\"display:none;\">\n",
              "\n",
              "<svg xmlns=\"http://www.w3.org/2000/svg\" height=\"24px\"viewBox=\"0 0 24 24\"\n",
              "     width=\"24px\">\n",
              "    <g>\n",
              "        <path d=\"M19 3H5c-1.1 0-2 .9-2 2v14c0 1.1.9 2 2 2h14c1.1 0 2-.9 2-2V5c0-1.1-.9-2-2-2zM9 17H7v-7h2v7zm4 0h-2V7h2v10zm4 0h-2v-4h2v4z\"/>\n",
              "    </g>\n",
              "</svg>\n",
              "  </button>\n",
              "\n",
              "<style>\n",
              "  .colab-df-quickchart {\n",
              "      --bg-color: #E8F0FE;\n",
              "      --fill-color: #1967D2;\n",
              "      --hover-bg-color: #E2EBFA;\n",
              "      --hover-fill-color: #174EA6;\n",
              "      --disabled-fill-color: #AAA;\n",
              "      --disabled-bg-color: #DDD;\n",
              "  }\n",
              "\n",
              "  [theme=dark] .colab-df-quickchart {\n",
              "      --bg-color: #3B4455;\n",
              "      --fill-color: #D2E3FC;\n",
              "      --hover-bg-color: #434B5C;\n",
              "      --hover-fill-color: #FFFFFF;\n",
              "      --disabled-bg-color: #3B4455;\n",
              "      --disabled-fill-color: #666;\n",
              "  }\n",
              "\n",
              "  .colab-df-quickchart {\n",
              "    background-color: var(--bg-color);\n",
              "    border: none;\n",
              "    border-radius: 50%;\n",
              "    cursor: pointer;\n",
              "    display: none;\n",
              "    fill: var(--fill-color);\n",
              "    height: 32px;\n",
              "    padding: 0;\n",
              "    width: 32px;\n",
              "  }\n",
              "\n",
              "  .colab-df-quickchart:hover {\n",
              "    background-color: var(--hover-bg-color);\n",
              "    box-shadow: 0 1px 2px rgba(60, 64, 67, 0.3), 0 1px 3px 1px rgba(60, 64, 67, 0.15);\n",
              "    fill: var(--button-hover-fill-color);\n",
              "  }\n",
              "\n",
              "  .colab-df-quickchart-complete:disabled,\n",
              "  .colab-df-quickchart-complete:disabled:hover {\n",
              "    background-color: var(--disabled-bg-color);\n",
              "    fill: var(--disabled-fill-color);\n",
              "    box-shadow: none;\n",
              "  }\n",
              "\n",
              "  .colab-df-spinner {\n",
              "    border: 2px solid var(--fill-color);\n",
              "    border-color: transparent;\n",
              "    border-bottom-color: var(--fill-color);\n",
              "    animation:\n",
              "      spin 1s steps(1) infinite;\n",
              "  }\n",
              "\n",
              "  @keyframes spin {\n",
              "    0% {\n",
              "      border-color: transparent;\n",
              "      border-bottom-color: var(--fill-color);\n",
              "      border-left-color: var(--fill-color);\n",
              "    }\n",
              "    20% {\n",
              "      border-color: transparent;\n",
              "      border-left-color: var(--fill-color);\n",
              "      border-top-color: var(--fill-color);\n",
              "    }\n",
              "    30% {\n",
              "      border-color: transparent;\n",
              "      border-left-color: var(--fill-color);\n",
              "      border-top-color: var(--fill-color);\n",
              "      border-right-color: var(--fill-color);\n",
              "    }\n",
              "    40% {\n",
              "      border-color: transparent;\n",
              "      border-right-color: var(--fill-color);\n",
              "      border-top-color: var(--fill-color);\n",
              "    }\n",
              "    60% {\n",
              "      border-color: transparent;\n",
              "      border-right-color: var(--fill-color);\n",
              "    }\n",
              "    80% {\n",
              "      border-color: transparent;\n",
              "      border-right-color: var(--fill-color);\n",
              "      border-bottom-color: var(--fill-color);\n",
              "    }\n",
              "    90% {\n",
              "      border-color: transparent;\n",
              "      border-bottom-color: var(--fill-color);\n",
              "    }\n",
              "  }\n",
              "</style>\n",
              "\n",
              "  <script>\n",
              "    async function quickchart(key) {\n",
              "      const quickchartButtonEl =\n",
              "        document.querySelector('#' + key + ' button');\n",
              "      quickchartButtonEl.disabled = true;  // To prevent multiple clicks.\n",
              "      quickchartButtonEl.classList.add('colab-df-spinner');\n",
              "      try {\n",
              "        const charts = await google.colab.kernel.invokeFunction(\n",
              "            'suggestCharts', [key], {});\n",
              "      } catch (error) {\n",
              "        console.error('Error during call to suggestCharts:', error);\n",
              "      }\n",
              "      quickchartButtonEl.classList.remove('colab-df-spinner');\n",
              "      quickchartButtonEl.classList.add('colab-df-quickchart-complete');\n",
              "    }\n",
              "    (() => {\n",
              "      let quickchartButtonEl =\n",
              "        document.querySelector('#df-eff30477-6238-4b69-8787-d6c3fe991453 button');\n",
              "      quickchartButtonEl.style.display =\n",
              "        google.colab.kernel.accessAllowed ? 'block' : 'none';\n",
              "    })();\n",
              "  </script>\n",
              "</div>\n",
              "\n",
              "    </div>\n",
              "  </div>\n"
            ],
            "text/plain": [
              "      A    B   mean(A)   mean(B)      diff        se         T   p-tukey  \\\n",
              "0  Thur  Sat  2.771452  2.993103 -0.221652  0.233179 -0.950565  0.608894   \n",
              "1  Thur  Sun  2.771452  3.255132 -0.483680  0.240098 -2.014510  0.111077   \n",
              "2   Sat  Sun  2.993103  3.255132 -0.262028  0.220282 -1.189512  0.460663   \n",
              "\n",
              "     hedges  \n",
              "0 -0.148857  \n",
              "1 -0.388762  \n",
              "2 -0.178644  "
            ]
          },
          "execution_count": 53,
          "metadata": {},
          "output_type": "execute_result"
        }
      ],
      "source": [
        "pg.pairwise_tukey(data=tips, dv='tip', between='day')"
      ]
    },
    {
      "cell_type": "markdown",
      "metadata": {
        "id": "EIT_XoS60SO_"
      },
      "source": [
        "## statsmodels"
      ]
    },
    {
      "cell_type": "code",
      "execution_count": 55,
      "metadata": {
        "colab": {
          "base_uri": "https://localhost:8080/"
        },
        "id": "l59LIYBS0Tf2",
        "outputId": "09e4805a-bcef-4e31-9be3-43768d8843ca"
      },
      "outputs": [
        {
          "name": "stdout",
          "output_type": "stream",
          "text": [
            "F-Statistic: 6.791407046264097 P-value: 0.004114227333077399\n"
          ]
        }
      ],
      "source": [
        "import pandas as pd\n",
        "from scipy.stats import shapiro, levene, f_oneway\n",
        "import statsmodels.api as sm\n",
        "from statsmodels.formula.api import ols\n",
        "\n",
        "f_stat, p_value = f_oneway(df[df['Hair color'] == 'Light Blond']['Pain threshold'],\n",
        "                 df[df['Hair color'] == 'Dark Blond']['Pain threshold'],\n",
        "                 df[df['Hair color'] == 'Light Brunette']['Pain threshold'],\n",
        "                 df[df['Hair color'] == 'Dark Brunette']['Pain threshold'])\n",
        "print('F-Statistic:', f_stat, 'P-value:', p_value)"
      ]
    },
    {
      "cell_type": "code",
      "execution_count": 56,
      "metadata": {
        "colab": {
          "base_uri": "https://localhost:8080/"
        },
        "id": "v3PppIYx0cSe",
        "outputId": "6c31cb98-a75a-4364-819c-dc255866a32e"
      },
      "outputs": [
        {
          "name": "stdout",
          "output_type": "stream",
          "text": [
            "                         sum_sq    df         F    PR(>F)\n",
            "C(Q(\"Hair color\"))  1360.726316   3.0  6.791407  0.004114\n",
            "Residual            1001.800000  15.0       NaN       NaN\n"
          ]
        }
      ],
      "source": [
        "model = ols('Q(\"Pain threshold\") ~ C(Q(\"Hair color\"))', data=df).fit()\n",
        "anova_table = sm.stats.anova_lm(model, typ=2)\n",
        "print(anova_table)"
      ]
    },
    {
      "cell_type": "markdown",
      "metadata": {
        "id": "WAYBdtD00h1u"
      },
      "source": [
        "- 사후검정"
      ]
    },
    {
      "cell_type": "code",
      "execution_count": 57,
      "metadata": {
        "colab": {
          "base_uri": "https://localhost:8080/"
        },
        "id": "BeZY1VgG0khO",
        "outputId": "b7e67651-57ab-44ff-fa1b-0772d8ecdbd2"
      },
      "outputs": [
        {
          "name": "stdout",
          "output_type": "stream",
          "text": [
            "        Multiple Comparison of Means - Tukey HSD, FWER=0.05         \n",
            "====================================================================\n",
            "    group1        group2     meandiff p-adj   lower    upper  reject\n",
            "--------------------------------------------------------------------\n",
            "   Dark Blond  Dark Brunette    -13.8 0.0741 -28.6967  1.0967  False\n",
            "   Dark Blond    Light Blond      8.0 0.4356  -6.8967 22.8967  False\n",
            "   Dark Blond Light Brunette     -8.7 0.4147 -24.5004  7.1004  False\n",
            "Dark Brunette    Light Blond     21.8 0.0037   6.9033 36.6967   True\n",
            "Dark Brunette Light Brunette      5.1 0.7893 -10.7004 20.9004  False\n",
            "  Light Blond Light Brunette    -16.7 0.0366 -32.5004 -0.8996   True\n",
            "--------------------------------------------------------------------\n"
          ]
        }
      ],
      "source": [
        "from statsmodels.stats.multicomp import pairwise_tukeyhsd\n",
        "import statsmodels.api as sm\n",
        "\n",
        "tukey_results = pairwise_tukeyhsd(endog=df['Pain threshold'],    # Data\n",
        "                                  groups=df['Hair color'],      # Groups\n",
        "                                  alpha=0.05)                   # Significance level\n",
        "\n",
        "# Print results\n",
        "print(tukey_results)"
      ]
    },
    {
      "cell_type": "markdown",
      "metadata": {},
      "source": [
        "# 분산분석\n",
        "- 가설설정\n",
        "  + 귀무가설 : day 컬럼의 평균 tip 차이가 없다!\n",
        "  + 대립가설 : day 컬럼의 평균 tip 차이가 있다!\n",
        "- 귀무가설 채택 시(p.value >= 0.05), 사후검정 할 필요 없음\n",
        "- 귀무가설 기각 ==> 대립가설 채택, 사후검정 진행\n",
        "  + 해석은 두 평균의 비교 검정하는 방법대로 진행, 결과 해석"
      ]
    },
    {
      "cell_type": "code",
      "execution_count": 8,
      "metadata": {},
      "outputs": [
        {
          "name": "stderr",
          "output_type": "stream",
          "text": [
            "C:\\Users\\tnsdl\\AppData\\Local\\Temp\\ipykernel_158676\\3745515542.py:21: FutureWarning: Styler.applymap has been deprecated. Use Styler.map instead.\n",
            "  styled_result = result.style.applymap(highlight_significance, subset=['가설검정결과'])\n"
          ]
        },
        {
          "data": {
            "text/html": [
              "<style type=\"text/css\">\n",
              "#T_02644_row0_col10, #T_02644_row3_col10, #T_02644_row7_col10, #T_02644_row8_col10, #T_02644_row9_col10, #T_02644_row10_col10, #T_02644_row11_col10, #T_02644_row12_col10, #T_02644_row13_col10, #T_02644_row14_col10 {\n",
              "  background-color: green;\n",
              "}\n",
              "#T_02644_row1_col10, #T_02644_row2_col10, #T_02644_row4_col10, #T_02644_row5_col10, #T_02644_row6_col10 {\n",
              "  background-color: red;\n",
              "}\n",
              "</style>\n",
              "<table id=\"T_02644\">\n",
              "  <thead>\n",
              "    <tr>\n",
              "      <th class=\"blank level0\" >&nbsp;</th>\n",
              "      <th id=\"T_02644_level0_col0\" class=\"col_heading level0 col0\" >A</th>\n",
              "      <th id=\"T_02644_level0_col1\" class=\"col_heading level0 col1\" >B</th>\n",
              "      <th id=\"T_02644_level0_col2\" class=\"col_heading level0 col2\" >mean(A)</th>\n",
              "      <th id=\"T_02644_level0_col3\" class=\"col_heading level0 col3\" >mean(B)</th>\n",
              "      <th id=\"T_02644_level0_col4\" class=\"col_heading level0 col4\" >diff</th>\n",
              "      <th id=\"T_02644_level0_col5\" class=\"col_heading level0 col5\" >se</th>\n",
              "      <th id=\"T_02644_level0_col6\" class=\"col_heading level0 col6\" >T</th>\n",
              "      <th id=\"T_02644_level0_col7\" class=\"col_heading level0 col7\" >df</th>\n",
              "      <th id=\"T_02644_level0_col8\" class=\"col_heading level0 col8\" >pval</th>\n",
              "      <th id=\"T_02644_level0_col9\" class=\"col_heading level0 col9\" >hedges</th>\n",
              "      <th id=\"T_02644_level0_col10\" class=\"col_heading level0 col10\" >가설검정결과</th>\n",
              "    </tr>\n",
              "  </thead>\n",
              "  <tbody>\n",
              "    <tr>\n",
              "      <th id=\"T_02644_level0_row0\" class=\"row_heading level0 row0\" >0</th>\n",
              "      <td id=\"T_02644_row0_col0\" class=\"data row0 col0\" >1</td>\n",
              "      <td id=\"T_02644_row0_col1\" class=\"data row0 col1\" >2</td>\n",
              "      <td id=\"T_02644_row0_col2\" class=\"data row0 col2\" >1.437500</td>\n",
              "      <td id=\"T_02644_row0_col3\" class=\"data row0 col3\" >2.582308</td>\n",
              "      <td id=\"T_02644_row0_col4\" class=\"data row0 col4\" >-1.144808</td>\n",
              "      <td id=\"T_02644_row0_col5\" class=\"data row0 col5\" >0.265265</td>\n",
              "      <td id=\"T_02644_row0_col6\" class=\"data row0 col6\" >-4.315720</td>\n",
              "      <td id=\"T_02644_row0_col7\" class=\"data row0 col7\" >3.609998</td>\n",
              "      <td id=\"T_02644_row0_col8\" class=\"data row0 col8\" >0.079082</td>\n",
              "      <td id=\"T_02644_row0_col9\" class=\"data row0 col9\" >-1.164289</td>\n",
              "      <td id=\"T_02644_row0_col10\" class=\"data row0 col10\" >귀무가설 채택</td>\n",
              "    </tr>\n",
              "    <tr>\n",
              "      <th id=\"T_02644_level0_row1\" class=\"row_heading level0 row1\" >1</th>\n",
              "      <td id=\"T_02644_row1_col0\" class=\"data row1 col0\" >1</td>\n",
              "      <td id=\"T_02644_row1_col1\" class=\"data row1 col1\" >3</td>\n",
              "      <td id=\"T_02644_row1_col2\" class=\"data row1 col2\" >1.437500</td>\n",
              "      <td id=\"T_02644_row1_col3\" class=\"data row1 col3\" >3.393158</td>\n",
              "      <td id=\"T_02644_row1_col4\" class=\"data row1 col4\" >-1.955658</td>\n",
              "      <td id=\"T_02644_row1_col5\" class=\"data row1 col5\" >0.357720</td>\n",
              "      <td id=\"T_02644_row1_col6\" class=\"data row1 col6\" >-5.467004</td>\n",
              "      <td id=\"T_02644_row1_col7\" class=\"data row1 col7\" >11.053619</td>\n",
              "      <td id=\"T_02644_row1_col8\" class=\"data row1 col8\" >0.001993</td>\n",
              "      <td id=\"T_02644_row1_col9\" class=\"data row1 col9\" >-1.275588</td>\n",
              "      <td id=\"T_02644_row1_col10\" class=\"data row1 col10\" >귀무가설 기각</td>\n",
              "    </tr>\n",
              "    <tr>\n",
              "      <th id=\"T_02644_level0_row2\" class=\"row_heading level0 row2\" >2</th>\n",
              "      <td id=\"T_02644_row2_col0\" class=\"data row2 col0\" >1</td>\n",
              "      <td id=\"T_02644_row2_col1\" class=\"data row2 col1\" >4</td>\n",
              "      <td id=\"T_02644_row2_col2\" class=\"data row2 col2\" >1.437500</td>\n",
              "      <td id=\"T_02644_row2_col3\" class=\"data row2 col3\" >4.135405</td>\n",
              "      <td id=\"T_02644_row2_col4\" class=\"data row2 col4\" >-2.697905</td>\n",
              "      <td id=\"T_02644_row2_col5\" class=\"data row2 col5\" >0.369987</td>\n",
              "      <td id=\"T_02644_row2_col6\" class=\"data row2 col6\" >-7.291883</td>\n",
              "      <td id=\"T_02644_row2_col7\" class=\"data row2 col7\" >12.342012</td>\n",
              "      <td id=\"T_02644_row2_col8\" class=\"data row2 col8\" >0.000094</td>\n",
              "      <td id=\"T_02644_row2_col9\" class=\"data row2 col9\" >-1.671787</td>\n",
              "      <td id=\"T_02644_row2_col10\" class=\"data row2 col10\" >귀무가설 기각</td>\n",
              "    </tr>\n",
              "    <tr>\n",
              "      <th id=\"T_02644_level0_row3\" class=\"row_heading level0 row3\" >3</th>\n",
              "      <td id=\"T_02644_row3_col0\" class=\"data row3 col0\" >1</td>\n",
              "      <td id=\"T_02644_row3_col1\" class=\"data row3 col1\" >5</td>\n",
              "      <td id=\"T_02644_row3_col2\" class=\"data row3 col2\" >1.437500</td>\n",
              "      <td id=\"T_02644_row3_col3\" class=\"data row3 col3\" >4.028000</td>\n",
              "      <td id=\"T_02644_row3_col4\" class=\"data row3 col4\" >-2.590500</td>\n",
              "      <td id=\"T_02644_row3_col5\" class=\"data row3 col5\" >0.692043</td>\n",
              "      <td id=\"T_02644_row3_col6\" class=\"data row3 col6\" >-3.743264</td>\n",
              "      <td id=\"T_02644_row3_col7\" class=\"data row3 col7\" >5.167951</td>\n",
              "      <td id=\"T_02644_row3_col8\" class=\"data row3 col8\" >0.077624</td>\n",
              "      <td id=\"T_02644_row3_col9\" class=\"data row3 col9\" >-2.023428</td>\n",
              "      <td id=\"T_02644_row3_col10\" class=\"data row3 col10\" >귀무가설 채택</td>\n",
              "    </tr>\n",
              "    <tr>\n",
              "      <th id=\"T_02644_level0_row4\" class=\"row_heading level0 row4\" >4</th>\n",
              "      <td id=\"T_02644_row4_col0\" class=\"data row4 col0\" >1</td>\n",
              "      <td id=\"T_02644_row4_col1\" class=\"data row4 col1\" >6</td>\n",
              "      <td id=\"T_02644_row4_col2\" class=\"data row4 col2\" >1.437500</td>\n",
              "      <td id=\"T_02644_row4_col3\" class=\"data row4 col3\" >5.225000</td>\n",
              "      <td id=\"T_02644_row4_col4\" class=\"data row4 col4\" >-3.787500</td>\n",
              "      <td id=\"T_02644_row4_col5\" class=\"data row4 col5\" >0.584321</td>\n",
              "      <td id=\"T_02644_row4_col6\" class=\"data row4 col6\" >-6.481880</td>\n",
              "      <td id=\"T_02644_row4_col7\" class=\"data row4 col7\" >4.317361</td>\n",
              "      <td id=\"T_02644_row4_col8\" class=\"data row4 col8\" >0.013658</td>\n",
              "      <td id=\"T_02644_row4_col9\" class=\"data row4 col9\" >-3.985549</td>\n",
              "      <td id=\"T_02644_row4_col10\" class=\"data row4 col10\" >귀무가설 기각</td>\n",
              "    </tr>\n",
              "    <tr>\n",
              "      <th id=\"T_02644_level0_row5\" class=\"row_heading level0 row5\" >5</th>\n",
              "      <td id=\"T_02644_row5_col0\" class=\"data row5 col0\" >2</td>\n",
              "      <td id=\"T_02644_row5_col1\" class=\"data row5 col1\" >3</td>\n",
              "      <td id=\"T_02644_row5_col2\" class=\"data row5 col2\" >2.582308</td>\n",
              "      <td id=\"T_02644_row5_col3\" class=\"data row5 col3\" >3.393158</td>\n",
              "      <td id=\"T_02644_row5_col4\" class=\"data row5 col4\" >-0.810850</td>\n",
              "      <td id=\"T_02644_row5_col5\" class=\"data row5 col5\" >0.264669</td>\n",
              "      <td id=\"T_02644_row5_col6\" class=\"data row5 col6\" >-3.063633</td>\n",
              "      <td id=\"T_02644_row5_col7\" class=\"data row5 col7\" >44.469370</td>\n",
              "      <td id=\"T_02644_row5_col8\" class=\"data row5 col8\" >0.040449</td>\n",
              "      <td id=\"T_02644_row5_col9\" class=\"data row5 col9\" >-0.721997</td>\n",
              "      <td id=\"T_02644_row5_col10\" class=\"data row5 col10\" >귀무가설 기각</td>\n",
              "    </tr>\n",
              "    <tr>\n",
              "      <th id=\"T_02644_level0_row6\" class=\"row_heading level0 row6\" >6</th>\n",
              "      <td id=\"T_02644_row6_col0\" class=\"data row6 col0\" >2</td>\n",
              "      <td id=\"T_02644_row6_col1\" class=\"data row6 col1\" >4</td>\n",
              "      <td id=\"T_02644_row6_col2\" class=\"data row6 col2\" >2.582308</td>\n",
              "      <td id=\"T_02644_row6_col3\" class=\"data row6 col3\" >4.135405</td>\n",
              "      <td id=\"T_02644_row6_col4\" class=\"data row6 col4\" >-1.553098</td>\n",
              "      <td id=\"T_02644_row6_col5\" class=\"data row6 col5\" >0.281028</td>\n",
              "      <td id=\"T_02644_row6_col6\" class=\"data row6 col6\" >-5.526483</td>\n",
              "      <td id=\"T_02644_row6_col7\" class=\"data row6 col7\" >42.353041</td>\n",
              "      <td id=\"T_02644_row6_col8\" class=\"data row6 col8\" >0.000026</td>\n",
              "      <td id=\"T_02644_row6_col9\" class=\"data row6 col9\" >-1.359150</td>\n",
              "      <td id=\"T_02644_row6_col10\" class=\"data row6 col10\" >귀무가설 기각</td>\n",
              "    </tr>\n",
              "    <tr>\n",
              "      <th id=\"T_02644_level0_row7\" class=\"row_heading level0 row7\" >7</th>\n",
              "      <td id=\"T_02644_row7_col0\" class=\"data row7 col0\" >2</td>\n",
              "      <td id=\"T_02644_row7_col1\" class=\"data row7 col1\" >5</td>\n",
              "      <td id=\"T_02644_row7_col2\" class=\"data row7 col2\" >2.582308</td>\n",
              "      <td id=\"T_02644_row7_col3\" class=\"data row7 col3\" >4.028000</td>\n",
              "      <td id=\"T_02644_row7_col4\" class=\"data row7 col4\" >-1.445692</td>\n",
              "      <td id=\"T_02644_row7_col5\" class=\"data row7 col5\" >0.648853</td>\n",
              "      <td id=\"T_02644_row7_col6\" class=\"data row7 col6\" >-2.228075</td>\n",
              "      <td id=\"T_02644_row7_col7\" class=\"data row7 col7\" >4.120954</td>\n",
              "      <td id=\"T_02644_row7_col8\" class=\"data row7 col8\" >0.379682</td>\n",
              "      <td id=\"T_02644_row7_col9\" class=\"data row7 col9\" >-1.439616</td>\n",
              "      <td id=\"T_02644_row7_col10\" class=\"data row7 col10\" >귀무가설 채택</td>\n",
              "    </tr>\n",
              "    <tr>\n",
              "      <th id=\"T_02644_level0_row8\" class=\"row_heading level0 row8\" >8</th>\n",
              "      <td id=\"T_02644_row8_col0\" class=\"data row8 col0\" >2</td>\n",
              "      <td id=\"T_02644_row8_col1\" class=\"data row8 col1\" >6</td>\n",
              "      <td id=\"T_02644_row8_col2\" class=\"data row8 col2\" >2.582308</td>\n",
              "      <td id=\"T_02644_row8_col3\" class=\"data row8 col3\" >5.225000</td>\n",
              "      <td id=\"T_02644_row8_col4\" class=\"data row8 col4\" >-2.642692</td>\n",
              "      <td id=\"T_02644_row8_col5\" class=\"data row8 col5\" >0.532464</td>\n",
              "      <td id=\"T_02644_row8_col6\" class=\"data row8 col6\" >-4.963143</td>\n",
              "      <td id=\"T_02644_row8_col7\" class=\"data row8 col7\" >3.136193</td>\n",
              "      <td id=\"T_02644_row8_col8\" class=\"data row8 col8\" >0.066501</td>\n",
              "      <td id=\"T_02644_row8_col9\" class=\"data row8 col9\" >-2.665231</td>\n",
              "      <td id=\"T_02644_row8_col10\" class=\"data row8 col10\" >귀무가설 채택</td>\n",
              "    </tr>\n",
              "    <tr>\n",
              "      <th id=\"T_02644_level0_row9\" class=\"row_heading level0 row9\" >9</th>\n",
              "      <td id=\"T_02644_row9_col0\" class=\"data row9 col0\" >3</td>\n",
              "      <td id=\"T_02644_row9_col1\" class=\"data row9 col1\" >4</td>\n",
              "      <td id=\"T_02644_row9_col2\" class=\"data row9 col2\" >3.393158</td>\n",
              "      <td id=\"T_02644_row9_col3\" class=\"data row9 col3\" >4.135405</td>\n",
              "      <td id=\"T_02644_row9_col4\" class=\"data row9 col4\" >-0.742248</td>\n",
              "      <td id=\"T_02644_row9_col5\" class=\"data row9 col5\" >0.369561</td>\n",
              "      <td id=\"T_02644_row9_col6\" class=\"data row9 col6\" >-2.008457</td>\n",
              "      <td id=\"T_02644_row9_col7\" class=\"data row9 col7\" >72.546448</td>\n",
              "      <td id=\"T_02644_row9_col8\" class=\"data row9 col8\" >0.347745</td>\n",
              "      <td id=\"T_02644_row9_col9\" class=\"data row9 col9\" >-0.459416</td>\n",
              "      <td id=\"T_02644_row9_col10\" class=\"data row9 col10\" >귀무가설 채택</td>\n",
              "    </tr>\n",
              "    <tr>\n",
              "      <th id=\"T_02644_level0_row10\" class=\"row_heading level0 row10\" >10</th>\n",
              "      <td id=\"T_02644_row10_col0\" class=\"data row10 col0\" >3</td>\n",
              "      <td id=\"T_02644_row10_col1\" class=\"data row10 col1\" >5</td>\n",
              "      <td id=\"T_02644_row10_col2\" class=\"data row10 col2\" >3.393158</td>\n",
              "      <td id=\"T_02644_row10_col3\" class=\"data row10 col3\" >4.028000</td>\n",
              "      <td id=\"T_02644_row10_col4\" class=\"data row10 col4\" >-0.634842</td>\n",
              "      <td id=\"T_02644_row10_col5\" class=\"data row10 col5\" >0.691815</td>\n",
              "      <td id=\"T_02644_row10_col6\" class=\"data row10 col6\" >-0.917647</td>\n",
              "      <td id=\"T_02644_row10_col7\" class=\"data row10 col7\" >5.312097</td>\n",
              "      <td id=\"T_02644_row10_col8\" class=\"data row10 col8\" >0.926731</td>\n",
              "      <td id=\"T_02644_row10_col9\" class=\"data row10 col9\" >-0.403000</td>\n",
              "      <td id=\"T_02644_row10_col10\" class=\"data row10 col10\" >귀무가설 채택</td>\n",
              "    </tr>\n",
              "    <tr>\n",
              "      <th id=\"T_02644_level0_row11\" class=\"row_heading level0 row11\" >11</th>\n",
              "      <td id=\"T_02644_row11_col0\" class=\"data row11 col0\" >3</td>\n",
              "      <td id=\"T_02644_row11_col1\" class=\"data row11 col1\" >6</td>\n",
              "      <td id=\"T_02644_row11_col2\" class=\"data row11 col2\" >3.393158</td>\n",
              "      <td id=\"T_02644_row11_col3\" class=\"data row11 col3\" >5.225000</td>\n",
              "      <td id=\"T_02644_row11_col4\" class=\"data row11 col4\" >-1.831842</td>\n",
              "      <td id=\"T_02644_row11_col5\" class=\"data row11 col5\" >0.584051</td>\n",
              "      <td id=\"T_02644_row11_col6\" class=\"data row11 col6\" >-3.136441</td>\n",
              "      <td id=\"T_02644_row11_col7\" class=\"data row11 col7\" >4.520536</td>\n",
              "      <td id=\"T_02644_row11_col8\" class=\"data row11 col8\" >0.157949</td>\n",
              "      <td id=\"T_02644_row11_col9\" class=\"data row11 col9\" >-1.178295</td>\n",
              "      <td id=\"T_02644_row11_col10\" class=\"data row11 col10\" >귀무가설 채택</td>\n",
              "    </tr>\n",
              "    <tr>\n",
              "      <th id=\"T_02644_level0_row12\" class=\"row_heading level0 row12\" >12</th>\n",
              "      <td id=\"T_02644_row12_col0\" class=\"data row12 col0\" >4</td>\n",
              "      <td id=\"T_02644_row12_col1\" class=\"data row12 col1\" >5</td>\n",
              "      <td id=\"T_02644_row12_col2\" class=\"data row12 col2\" >4.135405</td>\n",
              "      <td id=\"T_02644_row12_col3\" class=\"data row12 col3\" >4.028000</td>\n",
              "      <td id=\"T_02644_row12_col4\" class=\"data row12 col4\" >0.107405</td>\n",
              "      <td id=\"T_02644_row12_col5\" class=\"data row12 col5\" >0.698237</td>\n",
              "      <td id=\"T_02644_row12_col6\" class=\"data row12 col6\" >0.153824</td>\n",
              "      <td id=\"T_02644_row12_col7\" class=\"data row12 col7\" >5.507391</td>\n",
              "      <td id=\"T_02644_row12_col8\" class=\"data row12 col8\" >0.999979</td>\n",
              "      <td id=\"T_02644_row12_col9\" class=\"data row12 col9\" >0.064979</td>\n",
              "      <td id=\"T_02644_row12_col10\" class=\"data row12 col10\" >귀무가설 채택</td>\n",
              "    </tr>\n",
              "    <tr>\n",
              "      <th id=\"T_02644_level0_row13\" class=\"row_heading level0 row13\" >13</th>\n",
              "      <td id=\"T_02644_row13_col0\" class=\"data row13 col0\" >4</td>\n",
              "      <td id=\"T_02644_row13_col1\" class=\"data row13 col1\" >6</td>\n",
              "      <td id=\"T_02644_row13_col2\" class=\"data row13 col2\" >4.135405</td>\n",
              "      <td id=\"T_02644_row13_col3\" class=\"data row13 col3\" >5.225000</td>\n",
              "      <td id=\"T_02644_row13_col4\" class=\"data row13 col4\" >-1.089595</td>\n",
              "      <td id=\"T_02644_row13_col5\" class=\"data row13 col5\" >0.591644</td>\n",
              "      <td id=\"T_02644_row13_col6\" class=\"data row13 col6\" >-1.841638</td>\n",
              "      <td id=\"T_02644_row13_col7\" class=\"data row13 col7\" >4.753416</td>\n",
              "      <td id=\"T_02644_row13_col8\" class=\"data row13 col8\" >0.518860</td>\n",
              "      <td id=\"T_02644_row13_col9\" class=\"data row13 col9\" >-0.666509</td>\n",
              "      <td id=\"T_02644_row13_col10\" class=\"data row13 col10\" >귀무가설 채택</td>\n",
              "    </tr>\n",
              "    <tr>\n",
              "      <th id=\"T_02644_level0_row14\" class=\"row_heading level0 row14\" >14</th>\n",
              "      <td id=\"T_02644_row14_col0\" class=\"data row14 col0\" >5</td>\n",
              "      <td id=\"T_02644_row14_col1\" class=\"data row14 col1\" >6</td>\n",
              "      <td id=\"T_02644_row14_col2\" class=\"data row14 col2\" >4.028000</td>\n",
              "      <td id=\"T_02644_row14_col3\" class=\"data row14 col3\" >5.225000</td>\n",
              "      <td id=\"T_02644_row14_col4\" class=\"data row14 col4\" >-1.197000</td>\n",
              "      <td id=\"T_02644_row14_col5\" class=\"data row14 col5\" >0.831911</td>\n",
              "      <td id=\"T_02644_row14_col6\" class=\"data row14 col6\" >-1.438856</td>\n",
              "      <td id=\"T_02644_row14_col7\" class=\"data row14 col7\" >6.977813</td>\n",
              "      <td id=\"T_02644_row14_col8\" class=\"data row14 col8\" >0.707483</td>\n",
              "      <td id=\"T_02644_row14_col9\" class=\"data row14 col9\" >-0.825711</td>\n",
              "      <td id=\"T_02644_row14_col10\" class=\"data row14 col10\" >귀무가설 채택</td>\n",
              "    </tr>\n",
              "  </tbody>\n",
              "</table>\n"
            ],
            "text/plain": [
              "<pandas.io.formats.style.Styler at 0x293047df010>"
            ]
          },
          "execution_count": 8,
          "metadata": {},
          "output_type": "execute_result"
        }
      ],
      "source": [
        "import pingouin as pg\n",
        "import seaborn as sns\n",
        "import pandas as pd\n",
        "\n",
        "tips = sns.load_dataset(\"tips\")\n",
        "df = pg.read_dataset('anova')\n",
        "\n",
        "# 등분산성 검정\n",
        "pg.homoscedasticity(data=tips, dv='tip', group='size')\n",
        "\n",
        "pg.welch_anova(data=tips, dv='tip', between='size')\n",
        "\n",
        "result = pg.pairwise_gameshowell(data=tips, dv='tip', between='size')\n",
        "result['가설검정결과'] = result['pval'].apply(lambda p : '귀무가설 기각' if p < 0.05 else '귀무가설 채택')\n",
        "\n",
        "def highlight_significance(val):\n",
        "    color = 'background-color: red' if val == '귀무가설 기각' else 'background-color: green'\n",
        "    return color\n",
        "\n",
        "# applymap으로 각 셀에 대해 스타일 적용\n",
        "styled_result = result.style.applymap(highlight_significance, subset=['가설검정결과'])\n",
        "\n",
        "styled_result"
      ]
    }
  ],
  "metadata": {
    "colab": {
      "provenance": []
    },
    "kernelspec": {
      "display_name": "venv",
      "language": "python",
      "name": "python3"
    },
    "language_info": {
      "codemirror_mode": {
        "name": "ipython",
        "version": 3
      },
      "file_extension": ".py",
      "mimetype": "text/x-python",
      "name": "python",
      "nbconvert_exporter": "python",
      "pygments_lexer": "ipython3",
      "version": "3.10.9"
    }
  },
  "nbformat": 4,
  "nbformat_minor": 0
}
