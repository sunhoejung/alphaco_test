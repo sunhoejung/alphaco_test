{
  "cells": [
    {
      "cell_type": "markdown",
      "id": "b2d6302f-b837-4478-82ff-da823e2489ee",
      "metadata": {
        "id": "b2d6302f-b837-4478-82ff-da823e2489ee"
      },
      "source": [
        "## 문제\n",
        "- 주어진 데이터(data/toothgrowth.csv)에는 기니피그 60마리의 치아 길이, 투여한 비타민 C 종류, 투여량이 저장되어 있다.  오렌지주스를 투여받은 기니피그의 치아 길이 평균이 아스코르브산을 투여받은 기니피그의 치아 길이 평균과 일치하는지 t-검정(Two Sample t-test)를 통해 답하고자 한다. 가설은 아래와 같다.\n",
        "- 가설검정\n",
        "    + 귀무가설 : 만들어보세요\n",
        "    + 대립가설 : 만들어보세요\n",
        "- 데이터의 변수\n",
        "    + len : 치아의 길이\n",
        "    + supp : 투여한 약제(VC: 아스코르브산, OJ: 오렌지주스)\n",
        "    + does : 투여량\n",
        "- 단, 데이터의 각 변수들은 정규분포를 만족하며, 두 그룹은 등분산을 띤다.\n",
        "- 문제 1: 표본평균 $\\overline{X_{OJ}}$, $\\overline{X_{VC}}$를 구하시오.\n",
        "- 문제 2: 위의 가설을 검정하기 위한 검정통계량을 구하시오. (반올림하여 소숫점 둘째 자리까지 계산)\n",
        "- 문제 3: 위의 통계량에 대한 p-값을 구하고 (반올림하여 소숫점 넷째 자리까지 계산), 유의수준 0.05하에서 가설검정의 결과를 채택/기각 중 하나로 선택하시오.\n",
        "      "
      ]
    },
    {
      "cell_type": "markdown",
      "id": "53bba55e-b064-43c7-89bf-cee7f1cd0c84",
      "metadata": {
        "id": "53bba55e-b064-43c7-89bf-cee7f1cd0c84"
      },
      "source": [
        "## 데이터 불러오기"
      ]
    },
    {
      "cell_type": "code",
      "execution_count": null,
      "id": "f30ebbd0-56c8-4081-ab6a-e2e9dbe2c803",
      "metadata": {
        "id": "f30ebbd0-56c8-4081-ab6a-e2e9dbe2c803",
        "outputId": "31fbf1a2-9d87-44b5-cb30-e5a0616dd771"
      },
      "outputs": [
        {
          "data": {
            "text/html": [
              "<div>\n",
              "<style scoped>\n",
              "    .dataframe tbody tr th:only-of-type {\n",
              "        vertical-align: middle;\n",
              "    }\n",
              "\n",
              "    .dataframe tbody tr th {\n",
              "        vertical-align: top;\n",
              "    }\n",
              "\n",
              "    .dataframe thead th {\n",
              "        text-align: right;\n",
              "    }\n",
              "</style>\n",
              "<table border=\"1\" class=\"dataframe\">\n",
              "  <thead>\n",
              "    <tr style=\"text-align: right;\">\n",
              "      <th></th>\n",
              "      <th>len</th>\n",
              "      <th>supp</th>\n",
              "      <th>dose</th>\n",
              "    </tr>\n",
              "  </thead>\n",
              "  <tbody>\n",
              "    <tr>\n",
              "      <th>0</th>\n",
              "      <td>4.2</td>\n",
              "      <td>VC</td>\n",
              "      <td>0.5</td>\n",
              "    </tr>\n",
              "    <tr>\n",
              "      <th>1</th>\n",
              "      <td>11.5</td>\n",
              "      <td>VC</td>\n",
              "      <td>0.5</td>\n",
              "    </tr>\n",
              "    <tr>\n",
              "      <th>2</th>\n",
              "      <td>7.3</td>\n",
              "      <td>VC</td>\n",
              "      <td>0.5</td>\n",
              "    </tr>\n",
              "    <tr>\n",
              "      <th>3</th>\n",
              "      <td>5.8</td>\n",
              "      <td>VC</td>\n",
              "      <td>0.5</td>\n",
              "    </tr>\n",
              "    <tr>\n",
              "      <th>4</th>\n",
              "      <td>6.4</td>\n",
              "      <td>VC</td>\n",
              "      <td>0.5</td>\n",
              "    </tr>\n",
              "  </tbody>\n",
              "</table>\n",
              "</div>"
            ],
            "text/plain": [
              "    len supp  dose\n",
              "0   4.2   VC   0.5\n",
              "1  11.5   VC   0.5\n",
              "2   7.3   VC   0.5\n",
              "3   5.8   VC   0.5\n",
              "4   6.4   VC   0.5"
            ]
          },
          "execution_count": 2,
          "metadata": {},
          "output_type": "execute_result"
        }
      ],
      "source": [
        "#"
      ]
    },
    {
      "cell_type": "markdown",
      "id": "3c1699f6-eb3f-488f-a326-9445f2cdf285",
      "metadata": {
        "id": "3c1699f6-eb3f-488f-a326-9445f2cdf285"
      },
      "source": [
        "## 가설검정\n",
        "- 독립표본 T-검정은 정규성 검정 뿐만 아니라, 두 그룹이 등분산성을 띠는지 확인하는 작업 필요\n",
        "- Levene 검정을 사용한 등분산성 검정이 선행되어야 함"
      ]
    },
    {
      "cell_type": "code",
      "execution_count": null,
      "id": "48475e39-bf39-45a5-85f1-ce580b577fd6",
      "metadata": {
        "id": "48475e39-bf39-45a5-85f1-ce580b577fd6",
        "outputId": "610c8e68-644e-4f07-c3a2-3947c1bc6ef2"
      },
      "outputs": [
        {
          "data": {
            "text/plain": [
              "LeveneResult(statistic=1.2135720656945064, pvalue=0.2751764616144053)"
            ]
          },
          "execution_count": 3,
          "metadata": {},
          "output_type": "execute_result"
        }
      ],
      "source": [
        "#"
      ]
    },
    {
      "cell_type": "markdown",
      "id": "8af141f2-1758-4e40-8be1-686ddb19f3f2",
      "metadata": {
        "id": "8af141f2-1758-4e40-8be1-686ddb19f3f2"
      },
      "source": [
        "- p_value가 0.275 이므로 귀무가설을 채택한다."
      ]
    },
    {
      "cell_type": "markdown",
      "id": "67bea173-8324-458f-98e5-b619fe4dc364",
      "metadata": {
        "id": "67bea173-8324-458f-98e5-b619fe4dc364"
      },
      "source": [
        "## 문제 1\n",
        "- 표본평균 $\\overline{X_{OJ}}$, $\\overline{X_{VC}}$를 구하시오."
      ]
    },
    {
      "cell_type": "code",
      "execution_count": null,
      "id": "6e1064f2-e602-4967-be42-66deabf34256",
      "metadata": {
        "id": "6e1064f2-e602-4967-be42-66deabf34256",
        "outputId": "8d5003b8-4e38-43e5-a324-9862edea14d3"
      },
      "outputs": [
        {
          "data": {
            "text/plain": [
              "16.96"
            ]
          },
          "execution_count": 4,
          "metadata": {},
          "output_type": "execute_result"
        }
      ],
      "source": [
        "#"
      ]
    },
    {
      "cell_type": "code",
      "execution_count": null,
      "id": "4ab8abe1-65e5-454d-b79b-15c74da9a09a",
      "metadata": {
        "id": "4ab8abe1-65e5-454d-b79b-15c74da9a09a",
        "outputId": "54376784-c834-4c6c-9452-a5fbb466b913"
      },
      "outputs": [
        {
          "data": {
            "text/plain": [
              "20.66"
            ]
          },
          "execution_count": 5,
          "metadata": {},
          "output_type": "execute_result"
        }
      ],
      "source": [
        "#"
      ]
    },
    {
      "cell_type": "markdown",
      "id": "88bab335-c823-4c68-9329-4a4ce1b21252",
      "metadata": {
        "id": "88bab335-c823-4c68-9329-4a4ce1b21252"
      },
      "source": [
        "## 문제 2\n",
        "- 위의 가설을 검정하기 위한 검정통계량을 구하시오. (반올림하여 소숫점 둘째 자리까지 계산)"
      ]
    },
    {
      "cell_type": "code",
      "execution_count": null,
      "id": "1174cd55-ed0c-4616-bfe1-0ee413025ea8",
      "metadata": {
        "id": "1174cd55-ed0c-4616-bfe1-0ee413025ea8",
        "outputId": "045e5fe8-0544-4d8b-ef09-dcc2f9e34b1b"
      },
      "outputs": [
        {
          "name": "stdout",
          "output_type": "stream",
          "text": [
            "-1.9153 0.06\n"
          ]
        }
      ],
      "source": [
        "#"
      ]
    },
    {
      "cell_type": "markdown",
      "id": "8c825fdc-d795-4fd7-b760-56430e2676f3",
      "metadata": {
        "id": "8c825fdc-d795-4fd7-b760-56430e2676f3"
      },
      "source": [
        "## 문제 3.\n",
        "- 위의 통계량에 대한 p-값을 구하고 (반올림하여 소숫점 넷째 자리까지 계산), 유의수준 0.05하에서 가설검정의 결과를 채택/기각 중 하나로 선택하시오."
      ]
    },
    {
      "cell_type": "code",
      "execution_count": null,
      "id": "d26249ff-f4c4-4314-a73d-5738dfeaeb12",
      "metadata": {
        "id": "d26249ff-f4c4-4314-a73d-5738dfeaeb12",
        "outputId": "508b13c5-df9d-46a8-b8da-8c9e93a3e530"
      },
      "outputs": [
        {
          "name": "stdout",
          "output_type": "stream",
          "text": [
            "0.0604\n"
          ]
        }
      ],
      "source": [
        "#"
      ]
    },
    {
      "cell_type": "code",
      "execution_count": null,
      "id": "c8b64c6c-3575-43d1-ae35-b3547bbefb9a",
      "metadata": {
        "id": "c8b64c6c-3575-43d1-ae35-b3547bbefb9a",
        "outputId": "d98d8a98-5307-496f-dda1-c9e49176323e"
      },
      "outputs": [
        {
          "name": "stdout",
          "output_type": "stream",
          "text": [
            "채택\n"
          ]
        }
      ],
      "source": [
        "#"
      ]
    }
  ],
  "metadata": {
    "kernelspec": {
      "display_name": "Python 3 (ipykernel)",
      "language": "python",
      "name": "python3"
    },
    "language_info": {
      "codemirror_mode": {
        "name": "ipython",
        "version": 3
      },
      "file_extension": ".py",
      "mimetype": "text/x-python",
      "name": "python",
      "nbconvert_exporter": "python",
      "pygments_lexer": "ipython3",
      "version": "3.9.13"
    },
    "colab": {
      "provenance": []
    }
  },
  "nbformat": 4,
  "nbformat_minor": 5
}