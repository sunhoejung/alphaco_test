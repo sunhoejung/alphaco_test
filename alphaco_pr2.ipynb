{
 "cells": [
  {
   "cell_type": "markdown",
   "id": "9a430d16-6f6f-46b7-b53f-16934abee670",
   "metadata": {},
   "source": [
    "# 대제목"
   ]
  },
  {
   "cell_type": "markdown",
   "id": "1b263ff6-9c9b-4276-9430-28325ffbf868",
   "metadata": {},
   "source": [
    "## 중간제목"
   ]
  },
  {
   "cell_type": "code",
   "execution_count": 2,
   "id": "46003705-fbaf-403f-910a-28b6497bc405",
   "metadata": {},
   "outputs": [
    {
     "data": {
      "text/plain": [
       "2"
      ]
     },
     "execution_count": 2,
     "metadata": {},
     "output_type": "execute_result"
    }
   ],
   "source": [
    "1+1"
   ]
  },
  {
   "cell_type": "code",
   "execution_count": 4,
   "id": "2b5902e9-68b9-4fec-b2ec-eeef32d86329",
   "metadata": {},
   "outputs": [
    {
     "name": "stdout",
     "output_type": "stream",
     "text": [
      "2.1.1\n"
     ]
    }
   ],
   "source": [
    "import numpy as np\n",
    "\n",
    "print(np.__version__)"
   ]
  },
  {
   "cell_type": "markdown",
   "id": "b5a1bf04-4a7a-4fc0-aaaf-9cc7e892abf3",
   "metadata": {},
   "source": [
    "## 논리연산\n",
    " - True, False"
   ]
  },
  {
   "cell_type": "code",
   "execution_count": null,
   "id": "0fdc9467-5a79-4a0c-b32c-cb406d6fea85",
   "metadata": {},
   "outputs": [],
   "source": []
  }
 ],
 "metadata": {
  "kernelspec": {
   "display_name": "Python 3 (ipykernel)",
   "language": "python",
   "name": "python3"
  },
  "language_info": {
   "codemirror_mode": {
    "name": "ipython",
    "version": 3
   },
   "file_extension": ".py",
   "mimetype": "text/x-python",
   "name": "python",
   "nbconvert_exporter": "python",
   "pygments_lexer": "ipython3",
   "version": "3.10.9"
  }
 },
 "nbformat": 4,
 "nbformat_minor": 5
}
