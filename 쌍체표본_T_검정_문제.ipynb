{
  "cells": [
    {
      "cell_type": "markdown",
      "id": "b2d6302f-b837-4478-82ff-da823e2489ee",
      "metadata": {
        "id": "b2d6302f-b837-4478-82ff-da823e2489ee"
      },
      "source": [
        "## 문제\n",
        "- 주어진 데이터(data/insectsprays.csv)에는 여러 지역에서 스프레이를 뿌리기 전에 측정한 곤충의 수와 스프레이를 뿌린 다음의 곤충의 수가 저장되어 있다. 해당 스프레이가 구제 효과가 있는지(즉, 스프레이를 뿌린 뒤 곤충의 수가 감소했는지) 쌍체표본 t-검정(Paired t-test)을 통해 답하고자 한다.\n",
        "- 가설검정 가설검정 만들기\n",
        "    + 귀무가설 :\n",
        "    + 대립가설 :\n",
        "- 데이터의 변수\n",
        "    + before_spr : 살충제 뿌리기 전 곤충의 수\n",
        "    + after_spr : 살충제 뿌린 뒤 곤충의 수\n",
        "- 단, $\\overline{\\mu_{d}}$는 정규분포를 만족한다.\n",
        "- 문제 1: 표본평균 $\\overline{\\mu_{d}}$의 표본 평균을 구하시오. (반올림하여 소숫점 둘째 자리까지 계산)\n",
        "- 문제 2: 위의 가설을 검정하기 위한 검정통계량을 구하시오. (반올림하여 소숫점 둘째 자리까지 계산)\n",
        "- 문제 3: 위의 통계량에 대한 p-값을 구하고 (반올림하여 소숫점 넷째 자리까지 계산), 유의수준 0.05하에서 가설검정의 결과를 채택/기각 중 하나로 선택하시오.\n",
        "      "
      ]
    },
    {
      "cell_type": "markdown",
      "id": "53bba55e-b064-43c7-89bf-cee7f1cd0c84",
      "metadata": {
        "id": "53bba55e-b064-43c7-89bf-cee7f1cd0c84"
      },
      "source": [
        "## 데이터 불러오기"
      ]
    },
    {
      "cell_type": "markdown",
      "id": "e57ef803",
      "metadata": {},
      "source": []
    },
    {
      "cell_type": "code",
      "execution_count": null,
      "id": "f30ebbd0-56c8-4081-ab6a-e2e9dbe2c803",
      "metadata": {
        "id": "f30ebbd0-56c8-4081-ab6a-e2e9dbe2c803",
        "outputId": "8bbfc3ac-7635-46e6-d7ac-9f514d4aff71"
      },
      "outputs": [
        {
          "data": {
            "text/html": [
              "<div>\n",
              "<style scoped>\n",
              "    .dataframe tbody tr th:only-of-type {\n",
              "        vertical-align: middle;\n",
              "    }\n",
              "\n",
              "    .dataframe tbody tr th {\n",
              "        vertical-align: top;\n",
              "    }\n",
              "\n",
              "    .dataframe thead th {\n",
              "        text-align: right;\n",
              "    }\n",
              "</style>\n",
              "<table border=\"1\" class=\"dataframe\">\n",
              "  <thead>\n",
              "    <tr style=\"text-align: right;\">\n",
              "      <th></th>\n",
              "      <th>before_spr</th>\n",
              "      <th>after_spr</th>\n",
              "    </tr>\n",
              "  </thead>\n",
              "  <tbody>\n",
              "    <tr>\n",
              "      <th>0</th>\n",
              "      <td>10</td>\n",
              "      <td>0</td>\n",
              "    </tr>\n",
              "    <tr>\n",
              "      <th>1</th>\n",
              "      <td>7</td>\n",
              "      <td>1</td>\n",
              "    </tr>\n",
              "    <tr>\n",
              "      <th>2</th>\n",
              "      <td>20</td>\n",
              "      <td>7</td>\n",
              "    </tr>\n",
              "    <tr>\n",
              "      <th>3</th>\n",
              "      <td>14</td>\n",
              "      <td>2</td>\n",
              "    </tr>\n",
              "    <tr>\n",
              "      <th>4</th>\n",
              "      <td>14</td>\n",
              "      <td>3</td>\n",
              "    </tr>\n",
              "  </tbody>\n",
              "</table>\n",
              "</div>"
            ],
            "text/plain": [
              "   before_spr  after_spr\n",
              "0          10          0\n",
              "1           7          1\n",
              "2          20          7\n",
              "3          14          2\n",
              "4          14          3"
            ]
          },
          "execution_count": 2,
          "metadata": {},
          "output_type": "execute_result"
        }
      ],
      "source": [
        "#"
      ]
    },
    {
      "cell_type": "markdown",
      "id": "67bea173-8324-458f-98e5-b619fe4dc364",
      "metadata": {
        "id": "67bea173-8324-458f-98e5-b619fe4dc364"
      },
      "source": [
        "## 문제 1\n",
        "- 표본평균 $\\overline{\\mu_{d}}$의 표본 평균을 구하시오. (반올림하여 소숫점 둘째 자리까지 계산)"
      ]
    },
    {
      "cell_type": "code",
      "execution_count": null,
      "id": "6e1064f2-e602-4967-be42-66deabf34256",
      "metadata": {
        "id": "6e1064f2-e602-4967-be42-66deabf34256",
        "outputId": "187cbdc3-adea-4dfe-898b-a7cf23e7509c"
      },
      "outputs": [
        {
          "name": "stdout",
          "output_type": "stream",
          "text": [
            "-12.0\n"
          ]
        }
      ],
      "source": [
        "#"
      ]
    },
    {
      "cell_type": "markdown",
      "id": "88bab335-c823-4c68-9329-4a4ce1b21252",
      "metadata": {
        "id": "88bab335-c823-4c68-9329-4a4ce1b21252"
      },
      "source": [
        "## 문제 2\n",
        "- 위의 가설을 검정하기 위한 검정통계량을 구하시오. (반올림하여 소숫점 둘째 자리까지 계산)"
      ]
    },
    {
      "cell_type": "code",
      "execution_count": null,
      "id": "1174cd55-ed0c-4616-bfe1-0ee413025ea8",
      "metadata": {
        "id": "1174cd55-ed0c-4616-bfe1-0ee413025ea8",
        "outputId": "de304512-1f78-4578-df6e-f72145b8e8a7"
      },
      "outputs": [
        {
          "name": "stdout",
          "output_type": "stream",
          "text": [
            "14.8933 0.0\n"
          ]
        }
      ],
      "source": [
        "#"
      ]
    },
    {
      "cell_type": "markdown",
      "id": "8c825fdc-d795-4fd7-b760-56430e2676f3",
      "metadata": {
        "id": "8c825fdc-d795-4fd7-b760-56430e2676f3"
      },
      "source": [
        "## 문제 3.\n",
        "- 위의 통계량에 대한 p-값을 구하고 (반올림하여 소숫점 넷째 자리까지 계산), 유의수준 0.05하에서 가설검정의 결과를 채택/기각 중 하나로 선택하시오."
      ]
    },
    {
      "cell_type": "code",
      "execution_count": null,
      "id": "d26249ff-f4c4-4314-a73d-5738dfeaeb12",
      "metadata": {
        "id": "d26249ff-f4c4-4314-a73d-5738dfeaeb12",
        "outputId": "4f9a2725-8dc3-4b02-e541-fed98b1cf5bb"
      },
      "outputs": [
        {
          "name": "stdout",
          "output_type": "stream",
          "text": [
            "0.0\n"
          ]
        }
      ],
      "source": [
        "#"
      ]
    },
    {
      "cell_type": "code",
      "execution_count": null,
      "id": "c8b64c6c-3575-43d1-ae35-b3547bbefb9a",
      "metadata": {
        "id": "c8b64c6c-3575-43d1-ae35-b3547bbefb9a",
        "outputId": "3f513f27-9f1e-4e32-eca2-2b30ca00c283"
      },
      "outputs": [
        {
          "name": "stdout",
          "output_type": "stream",
          "text": [
            "기각\n"
          ]
        }
      ],
      "source": [
        "#"
      ]
    }
  ],
  "metadata": {
    "colab": {
      "provenance": []
    },
    "kernelspec": {
      "display_name": "Python 3 (ipykernel)",
      "language": "python",
      "name": "python3"
    },
    "language_info": {
      "codemirror_mode": {
        "name": "ipython",
        "version": 3
      },
      "file_extension": ".py",
      "mimetype": "text/x-python",
      "name": "python",
      "nbconvert_exporter": "python",
      "pygments_lexer": "ipython3",
      "version": "3.9.13"
    }
  },
  "nbformat": 4,
  "nbformat_minor": 5
}
